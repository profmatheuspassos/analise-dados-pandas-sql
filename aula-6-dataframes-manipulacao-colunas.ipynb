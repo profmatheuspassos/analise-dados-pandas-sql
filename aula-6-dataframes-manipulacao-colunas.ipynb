{
 "cells": [
  {
   "cell_type": "code",
   "execution_count": 29,
   "metadata": {},
   "outputs": [],
   "source": [
    "import pandas as pd\n",
    "from numpy.random import randn"
   ]
  },
  {
   "cell_type": "code",
   "execution_count": 30,
   "metadata": {},
   "outputs": [],
   "source": [
    "df = pd.DataFrame(randn(5, 4), index=[\"A\", \"B\", \"C\", \"D\", \"E\"], columns=\"W X Y Z\".split())"
   ]
  },
  {
   "cell_type": "code",
   "execution_count": 31,
   "metadata": {},
   "outputs": [
    {
     "data": {
      "text/html": [
       "<div>\n",
       "<style scoped>\n",
       "    .dataframe tbody tr th:only-of-type {\n",
       "        vertical-align: middle;\n",
       "    }\n",
       "\n",
       "    .dataframe tbody tr th {\n",
       "        vertical-align: top;\n",
       "    }\n",
       "\n",
       "    .dataframe thead th {\n",
       "        text-align: right;\n",
       "    }\n",
       "</style>\n",
       "<table border=\"1\" class=\"dataframe\">\n",
       "  <thead>\n",
       "    <tr style=\"text-align: right;\">\n",
       "      <th></th>\n",
       "      <th>W</th>\n",
       "      <th>X</th>\n",
       "      <th>Y</th>\n",
       "      <th>Z</th>\n",
       "    </tr>\n",
       "  </thead>\n",
       "  <tbody>\n",
       "    <tr>\n",
       "      <th>A</th>\n",
       "      <td>0.311791</td>\n",
       "      <td>-0.456729</td>\n",
       "      <td>-0.022376</td>\n",
       "      <td>0.729268</td>\n",
       "    </tr>\n",
       "    <tr>\n",
       "      <th>B</th>\n",
       "      <td>-0.288827</td>\n",
       "      <td>0.834856</td>\n",
       "      <td>1.606461</td>\n",
       "      <td>-1.942796</td>\n",
       "    </tr>\n",
       "    <tr>\n",
       "      <th>C</th>\n",
       "      <td>1.101441</td>\n",
       "      <td>0.697027</td>\n",
       "      <td>-1.659385</td>\n",
       "      <td>1.415905</td>\n",
       "    </tr>\n",
       "    <tr>\n",
       "      <th>D</th>\n",
       "      <td>0.656338</td>\n",
       "      <td>-1.858171</td>\n",
       "      <td>-0.990765</td>\n",
       "      <td>0.918325</td>\n",
       "    </tr>\n",
       "    <tr>\n",
       "      <th>E</th>\n",
       "      <td>-0.145454</td>\n",
       "      <td>1.874771</td>\n",
       "      <td>0.423930</td>\n",
       "      <td>-0.619961</td>\n",
       "    </tr>\n",
       "  </tbody>\n",
       "</table>\n",
       "</div>"
      ],
      "text/plain": [
       "          W         X         Y         Z\n",
       "A  0.311791 -0.456729 -0.022376  0.729268\n",
       "B -0.288827  0.834856  1.606461 -1.942796\n",
       "C  1.101441  0.697027 -1.659385  1.415905\n",
       "D  0.656338 -1.858171 -0.990765  0.918325\n",
       "E -0.145454  1.874771  0.423930 -0.619961"
      ]
     },
     "execution_count": 31,
     "metadata": {},
     "output_type": "execute_result"
    }
   ],
   "source": [
    "df"
   ]
  },
  {
   "cell_type": "code",
   "execution_count": 32,
   "metadata": {},
   "outputs": [
    {
     "data": {
      "text/plain": [
       "A    0.311791\n",
       "B   -0.288827\n",
       "C    1.101441\n",
       "D    0.656338\n",
       "E   -0.145454\n",
       "Name: W, dtype: float64"
      ]
     },
     "execution_count": 32,
     "metadata": {},
     "output_type": "execute_result"
    }
   ],
   "source": [
    "df[\"W\"]"
   ]
  },
  {
   "cell_type": "code",
   "execution_count": 33,
   "metadata": {},
   "outputs": [
    {
     "data": {
      "text/html": [
       "<div>\n",
       "<style scoped>\n",
       "    .dataframe tbody tr th:only-of-type {\n",
       "        vertical-align: middle;\n",
       "    }\n",
       "\n",
       "    .dataframe tbody tr th {\n",
       "        vertical-align: top;\n",
       "    }\n",
       "\n",
       "    .dataframe thead th {\n",
       "        text-align: right;\n",
       "    }\n",
       "</style>\n",
       "<table border=\"1\" class=\"dataframe\">\n",
       "  <thead>\n",
       "    <tr style=\"text-align: right;\">\n",
       "      <th></th>\n",
       "      <th>W</th>\n",
       "    </tr>\n",
       "  </thead>\n",
       "  <tbody>\n",
       "    <tr>\n",
       "      <th>A</th>\n",
       "      <td>0.311791</td>\n",
       "    </tr>\n",
       "    <tr>\n",
       "      <th>B</th>\n",
       "      <td>-0.288827</td>\n",
       "    </tr>\n",
       "    <tr>\n",
       "      <th>C</th>\n",
       "      <td>1.101441</td>\n",
       "    </tr>\n",
       "    <tr>\n",
       "      <th>D</th>\n",
       "      <td>0.656338</td>\n",
       "    </tr>\n",
       "    <tr>\n",
       "      <th>E</th>\n",
       "      <td>-0.145454</td>\n",
       "    </tr>\n",
       "  </tbody>\n",
       "</table>\n",
       "</div>"
      ],
      "text/plain": [
       "          W\n",
       "A  0.311791\n",
       "B -0.288827\n",
       "C  1.101441\n",
       "D  0.656338\n",
       "E -0.145454"
      ]
     },
     "execution_count": 33,
     "metadata": {},
     "output_type": "execute_result"
    }
   ],
   "source": [
    "df[[\"W\"]]"
   ]
  },
  {
   "cell_type": "code",
   "execution_count": 34,
   "metadata": {},
   "outputs": [],
   "source": [
    "df[\"new\"] = df[\"W\"]"
   ]
  },
  {
   "cell_type": "code",
   "execution_count": 35,
   "metadata": {},
   "outputs": [
    {
     "data": {
      "text/plain": [
       "A    0.311791\n",
       "B   -0.288827\n",
       "C    1.101441\n",
       "D    0.656338\n",
       "E   -0.145454\n",
       "Name: new, dtype: float64"
      ]
     },
     "execution_count": 35,
     "metadata": {},
     "output_type": "execute_result"
    }
   ],
   "source": [
    "df[\"new\"]"
   ]
  },
  {
   "cell_type": "code",
   "execution_count": 36,
   "metadata": {},
   "outputs": [
    {
     "data": {
      "text/html": [
       "<div>\n",
       "<style scoped>\n",
       "    .dataframe tbody tr th:only-of-type {\n",
       "        vertical-align: middle;\n",
       "    }\n",
       "\n",
       "    .dataframe tbody tr th {\n",
       "        vertical-align: top;\n",
       "    }\n",
       "\n",
       "    .dataframe thead th {\n",
       "        text-align: right;\n",
       "    }\n",
       "</style>\n",
       "<table border=\"1\" class=\"dataframe\">\n",
       "  <thead>\n",
       "    <tr style=\"text-align: right;\">\n",
       "      <th></th>\n",
       "      <th>W</th>\n",
       "      <th>X</th>\n",
       "      <th>Y</th>\n",
       "      <th>Z</th>\n",
       "      <th>new</th>\n",
       "    </tr>\n",
       "  </thead>\n",
       "  <tbody>\n",
       "    <tr>\n",
       "      <th>A</th>\n",
       "      <td>0.311791</td>\n",
       "      <td>-0.456729</td>\n",
       "      <td>-0.022376</td>\n",
       "      <td>0.729268</td>\n",
       "      <td>0.311791</td>\n",
       "    </tr>\n",
       "    <tr>\n",
       "      <th>B</th>\n",
       "      <td>-0.288827</td>\n",
       "      <td>0.834856</td>\n",
       "      <td>1.606461</td>\n",
       "      <td>-1.942796</td>\n",
       "      <td>-0.288827</td>\n",
       "    </tr>\n",
       "    <tr>\n",
       "      <th>C</th>\n",
       "      <td>1.101441</td>\n",
       "      <td>0.697027</td>\n",
       "      <td>-1.659385</td>\n",
       "      <td>1.415905</td>\n",
       "      <td>1.101441</td>\n",
       "    </tr>\n",
       "    <tr>\n",
       "      <th>D</th>\n",
       "      <td>0.656338</td>\n",
       "      <td>-1.858171</td>\n",
       "      <td>-0.990765</td>\n",
       "      <td>0.918325</td>\n",
       "      <td>0.656338</td>\n",
       "    </tr>\n",
       "    <tr>\n",
       "      <th>E</th>\n",
       "      <td>-0.145454</td>\n",
       "      <td>1.874771</td>\n",
       "      <td>0.423930</td>\n",
       "      <td>-0.619961</td>\n",
       "      <td>-0.145454</td>\n",
       "    </tr>\n",
       "  </tbody>\n",
       "</table>\n",
       "</div>"
      ],
      "text/plain": [
       "          W         X         Y         Z       new\n",
       "A  0.311791 -0.456729 -0.022376  0.729268  0.311791\n",
       "B -0.288827  0.834856  1.606461 -1.942796 -0.288827\n",
       "C  1.101441  0.697027 -1.659385  1.415905  1.101441\n",
       "D  0.656338 -1.858171 -0.990765  0.918325  0.656338\n",
       "E -0.145454  1.874771  0.423930 -0.619961 -0.145454"
      ]
     },
     "execution_count": 36,
     "metadata": {},
     "output_type": "execute_result"
    }
   ],
   "source": [
    "df"
   ]
  },
  {
   "cell_type": "code",
   "execution_count": 37,
   "metadata": {},
   "outputs": [],
   "source": [
    "df[\"new\"] = df[\"W\"] + df[\"Y\"]"
   ]
  },
  {
   "cell_type": "code",
   "execution_count": 38,
   "metadata": {},
   "outputs": [
    {
     "data": {
      "text/html": [
       "<div>\n",
       "<style scoped>\n",
       "    .dataframe tbody tr th:only-of-type {\n",
       "        vertical-align: middle;\n",
       "    }\n",
       "\n",
       "    .dataframe tbody tr th {\n",
       "        vertical-align: top;\n",
       "    }\n",
       "\n",
       "    .dataframe thead th {\n",
       "        text-align: right;\n",
       "    }\n",
       "</style>\n",
       "<table border=\"1\" class=\"dataframe\">\n",
       "  <thead>\n",
       "    <tr style=\"text-align: right;\">\n",
       "      <th></th>\n",
       "      <th>W</th>\n",
       "      <th>X</th>\n",
       "      <th>Y</th>\n",
       "      <th>Z</th>\n",
       "      <th>new</th>\n",
       "    </tr>\n",
       "  </thead>\n",
       "  <tbody>\n",
       "    <tr>\n",
       "      <th>A</th>\n",
       "      <td>0.311791</td>\n",
       "      <td>-0.456729</td>\n",
       "      <td>-0.022376</td>\n",
       "      <td>0.729268</td>\n",
       "      <td>0.289415</td>\n",
       "    </tr>\n",
       "    <tr>\n",
       "      <th>B</th>\n",
       "      <td>-0.288827</td>\n",
       "      <td>0.834856</td>\n",
       "      <td>1.606461</td>\n",
       "      <td>-1.942796</td>\n",
       "      <td>1.317633</td>\n",
       "    </tr>\n",
       "    <tr>\n",
       "      <th>C</th>\n",
       "      <td>1.101441</td>\n",
       "      <td>0.697027</td>\n",
       "      <td>-1.659385</td>\n",
       "      <td>1.415905</td>\n",
       "      <td>-0.557945</td>\n",
       "    </tr>\n",
       "    <tr>\n",
       "      <th>D</th>\n",
       "      <td>0.656338</td>\n",
       "      <td>-1.858171</td>\n",
       "      <td>-0.990765</td>\n",
       "      <td>0.918325</td>\n",
       "      <td>-0.334427</td>\n",
       "    </tr>\n",
       "    <tr>\n",
       "      <th>E</th>\n",
       "      <td>-0.145454</td>\n",
       "      <td>1.874771</td>\n",
       "      <td>0.423930</td>\n",
       "      <td>-0.619961</td>\n",
       "      <td>0.278476</td>\n",
       "    </tr>\n",
       "  </tbody>\n",
       "</table>\n",
       "</div>"
      ],
      "text/plain": [
       "          W         X         Y         Z       new\n",
       "A  0.311791 -0.456729 -0.022376  0.729268  0.289415\n",
       "B -0.288827  0.834856  1.606461 -1.942796  1.317633\n",
       "C  1.101441  0.697027 -1.659385  1.415905 -0.557945\n",
       "D  0.656338 -1.858171 -0.990765  0.918325 -0.334427\n",
       "E -0.145454  1.874771  0.423930 -0.619961  0.278476"
      ]
     },
     "execution_count": 38,
     "metadata": {},
     "output_type": "execute_result"
    }
   ],
   "source": [
    "df"
   ]
  },
  {
   "cell_type": "code",
   "execution_count": 39,
   "metadata": {},
   "outputs": [
    {
     "data": {
      "text/html": [
       "<div>\n",
       "<style scoped>\n",
       "    .dataframe tbody tr th:only-of-type {\n",
       "        vertical-align: middle;\n",
       "    }\n",
       "\n",
       "    .dataframe tbody tr th {\n",
       "        vertical-align: top;\n",
       "    }\n",
       "\n",
       "    .dataframe thead th {\n",
       "        text-align: right;\n",
       "    }\n",
       "</style>\n",
       "<table border=\"1\" class=\"dataframe\">\n",
       "  <thead>\n",
       "    <tr style=\"text-align: right;\">\n",
       "      <th></th>\n",
       "      <th>W</th>\n",
       "      <th>X</th>\n",
       "      <th>Y</th>\n",
       "      <th>Z</th>\n",
       "    </tr>\n",
       "  </thead>\n",
       "  <tbody>\n",
       "    <tr>\n",
       "      <th>A</th>\n",
       "      <td>0.311791</td>\n",
       "      <td>-0.456729</td>\n",
       "      <td>-0.022376</td>\n",
       "      <td>0.729268</td>\n",
       "    </tr>\n",
       "    <tr>\n",
       "      <th>B</th>\n",
       "      <td>-0.288827</td>\n",
       "      <td>0.834856</td>\n",
       "      <td>1.606461</td>\n",
       "      <td>-1.942796</td>\n",
       "    </tr>\n",
       "    <tr>\n",
       "      <th>C</th>\n",
       "      <td>1.101441</td>\n",
       "      <td>0.697027</td>\n",
       "      <td>-1.659385</td>\n",
       "      <td>1.415905</td>\n",
       "    </tr>\n",
       "    <tr>\n",
       "      <th>D</th>\n",
       "      <td>0.656338</td>\n",
       "      <td>-1.858171</td>\n",
       "      <td>-0.990765</td>\n",
       "      <td>0.918325</td>\n",
       "    </tr>\n",
       "    <tr>\n",
       "      <th>E</th>\n",
       "      <td>-0.145454</td>\n",
       "      <td>1.874771</td>\n",
       "      <td>0.423930</td>\n",
       "      <td>-0.619961</td>\n",
       "    </tr>\n",
       "  </tbody>\n",
       "</table>\n",
       "</div>"
      ],
      "text/plain": [
       "          W         X         Y         Z\n",
       "A  0.311791 -0.456729 -0.022376  0.729268\n",
       "B -0.288827  0.834856  1.606461 -1.942796\n",
       "C  1.101441  0.697027 -1.659385  1.415905\n",
       "D  0.656338 -1.858171 -0.990765  0.918325\n",
       "E -0.145454  1.874771  0.423930 -0.619961"
      ]
     },
     "execution_count": 39,
     "metadata": {},
     "output_type": "execute_result"
    }
   ],
   "source": [
    "df.drop(\"new\", axis = 1)"
   ]
  },
  {
   "cell_type": "code",
   "execution_count": 40,
   "metadata": {},
   "outputs": [
    {
     "data": {
      "text/html": [
       "<div>\n",
       "<style scoped>\n",
       "    .dataframe tbody tr th:only-of-type {\n",
       "        vertical-align: middle;\n",
       "    }\n",
       "\n",
       "    .dataframe tbody tr th {\n",
       "        vertical-align: top;\n",
       "    }\n",
       "\n",
       "    .dataframe thead th {\n",
       "        text-align: right;\n",
       "    }\n",
       "</style>\n",
       "<table border=\"1\" class=\"dataframe\">\n",
       "  <thead>\n",
       "    <tr style=\"text-align: right;\">\n",
       "      <th></th>\n",
       "      <th>W</th>\n",
       "      <th>X</th>\n",
       "      <th>Y</th>\n",
       "      <th>Z</th>\n",
       "      <th>new</th>\n",
       "    </tr>\n",
       "  </thead>\n",
       "  <tbody>\n",
       "    <tr>\n",
       "      <th>A</th>\n",
       "      <td>0.311791</td>\n",
       "      <td>-0.456729</td>\n",
       "      <td>-0.022376</td>\n",
       "      <td>0.729268</td>\n",
       "      <td>0.289415</td>\n",
       "    </tr>\n",
       "    <tr>\n",
       "      <th>B</th>\n",
       "      <td>-0.288827</td>\n",
       "      <td>0.834856</td>\n",
       "      <td>1.606461</td>\n",
       "      <td>-1.942796</td>\n",
       "      <td>1.317633</td>\n",
       "    </tr>\n",
       "    <tr>\n",
       "      <th>C</th>\n",
       "      <td>1.101441</td>\n",
       "      <td>0.697027</td>\n",
       "      <td>-1.659385</td>\n",
       "      <td>1.415905</td>\n",
       "      <td>-0.557945</td>\n",
       "    </tr>\n",
       "    <tr>\n",
       "      <th>D</th>\n",
       "      <td>0.656338</td>\n",
       "      <td>-1.858171</td>\n",
       "      <td>-0.990765</td>\n",
       "      <td>0.918325</td>\n",
       "      <td>-0.334427</td>\n",
       "    </tr>\n",
       "    <tr>\n",
       "      <th>E</th>\n",
       "      <td>-0.145454</td>\n",
       "      <td>1.874771</td>\n",
       "      <td>0.423930</td>\n",
       "      <td>-0.619961</td>\n",
       "      <td>0.278476</td>\n",
       "    </tr>\n",
       "  </tbody>\n",
       "</table>\n",
       "</div>"
      ],
      "text/plain": [
       "          W         X         Y         Z       new\n",
       "A  0.311791 -0.456729 -0.022376  0.729268  0.289415\n",
       "B -0.288827  0.834856  1.606461 -1.942796  1.317633\n",
       "C  1.101441  0.697027 -1.659385  1.415905 -0.557945\n",
       "D  0.656338 -1.858171 -0.990765  0.918325 -0.334427\n",
       "E -0.145454  1.874771  0.423930 -0.619961  0.278476"
      ]
     },
     "execution_count": 40,
     "metadata": {},
     "output_type": "execute_result"
    }
   ],
   "source": [
    "df"
   ]
  },
  {
   "cell_type": "code",
   "execution_count": 41,
   "metadata": {},
   "outputs": [],
   "source": [
    "df2 = df.drop(\"new\", axis = 1)"
   ]
  },
  {
   "cell_type": "code",
   "execution_count": 42,
   "metadata": {},
   "outputs": [
    {
     "data": {
      "text/html": [
       "<div>\n",
       "<style scoped>\n",
       "    .dataframe tbody tr th:only-of-type {\n",
       "        vertical-align: middle;\n",
       "    }\n",
       "\n",
       "    .dataframe tbody tr th {\n",
       "        vertical-align: top;\n",
       "    }\n",
       "\n",
       "    .dataframe thead th {\n",
       "        text-align: right;\n",
       "    }\n",
       "</style>\n",
       "<table border=\"1\" class=\"dataframe\">\n",
       "  <thead>\n",
       "    <tr style=\"text-align: right;\">\n",
       "      <th></th>\n",
       "      <th>W</th>\n",
       "      <th>X</th>\n",
       "      <th>Y</th>\n",
       "      <th>Z</th>\n",
       "    </tr>\n",
       "  </thead>\n",
       "  <tbody>\n",
       "    <tr>\n",
       "      <th>A</th>\n",
       "      <td>0.311791</td>\n",
       "      <td>-0.456729</td>\n",
       "      <td>-0.022376</td>\n",
       "      <td>0.729268</td>\n",
       "    </tr>\n",
       "    <tr>\n",
       "      <th>B</th>\n",
       "      <td>-0.288827</td>\n",
       "      <td>0.834856</td>\n",
       "      <td>1.606461</td>\n",
       "      <td>-1.942796</td>\n",
       "    </tr>\n",
       "    <tr>\n",
       "      <th>C</th>\n",
       "      <td>1.101441</td>\n",
       "      <td>0.697027</td>\n",
       "      <td>-1.659385</td>\n",
       "      <td>1.415905</td>\n",
       "    </tr>\n",
       "    <tr>\n",
       "      <th>D</th>\n",
       "      <td>0.656338</td>\n",
       "      <td>-1.858171</td>\n",
       "      <td>-0.990765</td>\n",
       "      <td>0.918325</td>\n",
       "    </tr>\n",
       "    <tr>\n",
       "      <th>E</th>\n",
       "      <td>-0.145454</td>\n",
       "      <td>1.874771</td>\n",
       "      <td>0.423930</td>\n",
       "      <td>-0.619961</td>\n",
       "    </tr>\n",
       "  </tbody>\n",
       "</table>\n",
       "</div>"
      ],
      "text/plain": [
       "          W         X         Y         Z\n",
       "A  0.311791 -0.456729 -0.022376  0.729268\n",
       "B -0.288827  0.834856  1.606461 -1.942796\n",
       "C  1.101441  0.697027 -1.659385  1.415905\n",
       "D  0.656338 -1.858171 -0.990765  0.918325\n",
       "E -0.145454  1.874771  0.423930 -0.619961"
      ]
     },
     "execution_count": 42,
     "metadata": {},
     "output_type": "execute_result"
    }
   ],
   "source": [
    "df2"
   ]
  },
  {
   "cell_type": "code",
   "execution_count": 43,
   "metadata": {},
   "outputs": [],
   "source": [
    "df.drop(\"new\", axis = 1, inplace = True)"
   ]
  },
  {
   "cell_type": "code",
   "execution_count": 44,
   "metadata": {},
   "outputs": [
    {
     "data": {
      "text/html": [
       "<div>\n",
       "<style scoped>\n",
       "    .dataframe tbody tr th:only-of-type {\n",
       "        vertical-align: middle;\n",
       "    }\n",
       "\n",
       "    .dataframe tbody tr th {\n",
       "        vertical-align: top;\n",
       "    }\n",
       "\n",
       "    .dataframe thead th {\n",
       "        text-align: right;\n",
       "    }\n",
       "</style>\n",
       "<table border=\"1\" class=\"dataframe\">\n",
       "  <thead>\n",
       "    <tr style=\"text-align: right;\">\n",
       "      <th></th>\n",
       "      <th>W</th>\n",
       "      <th>X</th>\n",
       "      <th>Y</th>\n",
       "      <th>Z</th>\n",
       "    </tr>\n",
       "  </thead>\n",
       "  <tbody>\n",
       "    <tr>\n",
       "      <th>A</th>\n",
       "      <td>0.311791</td>\n",
       "      <td>-0.456729</td>\n",
       "      <td>-0.022376</td>\n",
       "      <td>0.729268</td>\n",
       "    </tr>\n",
       "    <tr>\n",
       "      <th>B</th>\n",
       "      <td>-0.288827</td>\n",
       "      <td>0.834856</td>\n",
       "      <td>1.606461</td>\n",
       "      <td>-1.942796</td>\n",
       "    </tr>\n",
       "    <tr>\n",
       "      <th>C</th>\n",
       "      <td>1.101441</td>\n",
       "      <td>0.697027</td>\n",
       "      <td>-1.659385</td>\n",
       "      <td>1.415905</td>\n",
       "    </tr>\n",
       "    <tr>\n",
       "      <th>D</th>\n",
       "      <td>0.656338</td>\n",
       "      <td>-1.858171</td>\n",
       "      <td>-0.990765</td>\n",
       "      <td>0.918325</td>\n",
       "    </tr>\n",
       "    <tr>\n",
       "      <th>E</th>\n",
       "      <td>-0.145454</td>\n",
       "      <td>1.874771</td>\n",
       "      <td>0.423930</td>\n",
       "      <td>-0.619961</td>\n",
       "    </tr>\n",
       "  </tbody>\n",
       "</table>\n",
       "</div>"
      ],
      "text/plain": [
       "          W         X         Y         Z\n",
       "A  0.311791 -0.456729 -0.022376  0.729268\n",
       "B -0.288827  0.834856  1.606461 -1.942796\n",
       "C  1.101441  0.697027 -1.659385  1.415905\n",
       "D  0.656338 -1.858171 -0.990765  0.918325\n",
       "E -0.145454  1.874771  0.423930 -0.619961"
      ]
     },
     "execution_count": 44,
     "metadata": {},
     "output_type": "execute_result"
    }
   ],
   "source": [
    "df"
   ]
  },
  {
   "cell_type": "code",
   "execution_count": 47,
   "metadata": {},
   "outputs": [
    {
     "data": {
      "text/plain": [
       "W    0.311791\n",
       "X   -0.456729\n",
       "Y   -0.022376\n",
       "Z    0.729268\n",
       "Name: A, dtype: float64"
      ]
     },
     "execution_count": 47,
     "metadata": {},
     "output_type": "execute_result"
    }
   ],
   "source": [
    "df.loc[\"A\"]"
   ]
  },
  {
   "cell_type": "code",
   "execution_count": 48,
   "metadata": {},
   "outputs": [
    {
     "data": {
      "text/html": [
       "<div>\n",
       "<style scoped>\n",
       "    .dataframe tbody tr th:only-of-type {\n",
       "        vertical-align: middle;\n",
       "    }\n",
       "\n",
       "    .dataframe tbody tr th {\n",
       "        vertical-align: top;\n",
       "    }\n",
       "\n",
       "    .dataframe thead th {\n",
       "        text-align: right;\n",
       "    }\n",
       "</style>\n",
       "<table border=\"1\" class=\"dataframe\">\n",
       "  <thead>\n",
       "    <tr style=\"text-align: right;\">\n",
       "      <th></th>\n",
       "      <th>W</th>\n",
       "      <th>X</th>\n",
       "      <th>Y</th>\n",
       "      <th>Z</th>\n",
       "    </tr>\n",
       "  </thead>\n",
       "  <tbody>\n",
       "    <tr>\n",
       "      <th>A</th>\n",
       "      <td>0.311791</td>\n",
       "      <td>-0.456729</td>\n",
       "      <td>-0.022376</td>\n",
       "      <td>0.729268</td>\n",
       "    </tr>\n",
       "    <tr>\n",
       "      <th>B</th>\n",
       "      <td>-0.288827</td>\n",
       "      <td>0.834856</td>\n",
       "      <td>1.606461</td>\n",
       "      <td>-1.942796</td>\n",
       "    </tr>\n",
       "  </tbody>\n",
       "</table>\n",
       "</div>"
      ],
      "text/plain": [
       "          W         X         Y         Z\n",
       "A  0.311791 -0.456729 -0.022376  0.729268\n",
       "B -0.288827  0.834856  1.606461 -1.942796"
      ]
     },
     "execution_count": 48,
     "metadata": {},
     "output_type": "execute_result"
    }
   ],
   "source": [
    "df.loc[[\"A\", \"B\"]]"
   ]
  },
  {
   "cell_type": "code",
   "execution_count": 49,
   "metadata": {},
   "outputs": [
    {
     "data": {
      "text/plain": [
       "-0.022375979000968705"
      ]
     },
     "execution_count": 49,
     "metadata": {},
     "output_type": "execute_result"
    }
   ],
   "source": [
    "df.iloc[0, 2]"
   ]
  }
 ],
 "metadata": {
  "kernelspec": {
   "display_name": "Python 3",
   "language": "python",
   "name": "python3"
  },
  "language_info": {
   "codemirror_mode": {
    "name": "ipython",
    "version": 3
   },
   "file_extension": ".py",
   "mimetype": "text/x-python",
   "name": "python",
   "nbconvert_exporter": "python",
   "pygments_lexer": "ipython3",
   "version": "3.12.2"
  }
 },
 "nbformat": 4,
 "nbformat_minor": 2
}
