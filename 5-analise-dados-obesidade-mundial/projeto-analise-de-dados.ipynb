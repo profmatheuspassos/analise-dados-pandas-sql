{
 "cells": [
  {
   "cell_type": "markdown",
   "id": "motivated-olympus",
   "metadata": {},
   "source": [
    "# Projeto final\n",
    "\n",
    "Bem vindo ao projeto final do curso/módulo de Pandas.\n",
    "Neste projeto, você deve responder a um conjunto de perguntas feitas a dois conjuntos de dados:\n",
    "\n",
    "1. [Obesity among adults by country, 1975-2016](https://www.kaggle.com/amanarora/obesity-among-adults-by-country-19752016/)\n",
    "2. [GDP Per Person (1901-2011)](https://www.kaggle.com/divyansh22/gdp-per-person-19012011?select=GDP.csv)\n",
    "\n",
    "Tais conjuntos de dados são públicos foram publicados no Kaggle. Mais instruções sobre cada um deles podem ser encontrados nos links acima. Você também os encontrará na pasta `Datasets`, dentro de nossas apostilas."
   ]
  },
  {
   "cell_type": "code",
   "execution_count": 1,
   "id": "million-survival",
   "metadata": {},
   "outputs": [],
   "source": [
    "import pandas as pd\n",
    "import numpy as np\n",
    "from pathlib import Path\n",
    "\n",
    "# Caminho absoluto até a pasta onde as subpastas estão localizadas\n",
    "pastaArquivos = Path(\"/Users/matheuspassossilva/Library/CloudStorage/Dropbox/GitHub/analise-dados-pandas-sql/arquivos\")\n",
    "\n",
    "# Caminhos para os arquivos CSV - NÃO UTILIZADOS, OPTOU-SE POR ABRI-LOS DIRETAMENTE\n",
    "# arquivoObesidade = pastaArquivos / \"obesity_cleaned.csv\"\n",
    "# arquivoPIB = pastaArquivos / \"gdp.csv\"\n",
    "\n",
    "dfObesidade = pd.read_csv(pastaArquivos / \"obesity_cleaned.csv\", index_col=0)\n",
    "dfGDP = pd.read_csv(pastaArquivos / \"gdp.csv\")"
   ]
  },
  {
   "cell_type": "code",
   "execution_count": 2,
   "id": "ef4930b1",
   "metadata": {},
   "outputs": [
    {
     "name": "stdout",
     "output_type": "stream",
     "text": [
      "<class 'pandas.core.frame.DataFrame'>\n",
      "Index: 24570 entries, 0 to 24569\n",
      "Data columns (total 4 columns):\n",
      " #   Column       Non-Null Count  Dtype \n",
      "---  ------       --------------  ----- \n",
      " 0   Country      24570 non-null  object\n",
      " 1   Year         24570 non-null  int64 \n",
      " 2   Obesity (%)  24570 non-null  object\n",
      " 3   Sex          24570 non-null  object\n",
      "dtypes: int64(1), object(3)\n",
      "memory usage: 959.8+ KB\n"
     ]
    }
   ],
   "source": [
    "dfObesidade.info()"
   ]
  },
  {
   "cell_type": "code",
   "execution_count": 3,
   "id": "5d4db179",
   "metadata": {},
   "outputs": [
    {
     "data": {
      "text/plain": [
       "Index(['Country', 'Year', 'Obesity (%)', 'Sex'], dtype='object')"
      ]
     },
     "execution_count": 3,
     "metadata": {},
     "output_type": "execute_result"
    }
   ],
   "source": [
    "dfObesidade.columns"
   ]
  },
  {
   "cell_type": "code",
   "execution_count": 4,
   "id": "b9e21edd",
   "metadata": {},
   "outputs": [
    {
     "data": {
      "text/html": [
       "<div>\n",
       "<style scoped>\n",
       "    .dataframe tbody tr th:only-of-type {\n",
       "        vertical-align: middle;\n",
       "    }\n",
       "\n",
       "    .dataframe tbody tr th {\n",
       "        vertical-align: top;\n",
       "    }\n",
       "\n",
       "    .dataframe thead th {\n",
       "        text-align: right;\n",
       "    }\n",
       "</style>\n",
       "<table border=\"1\" class=\"dataframe\">\n",
       "  <thead>\n",
       "    <tr style=\"text-align: right;\">\n",
       "      <th></th>\n",
       "      <th>Country</th>\n",
       "      <th>Year</th>\n",
       "      <th>Obesity (%)</th>\n",
       "      <th>Sex</th>\n",
       "    </tr>\n",
       "  </thead>\n",
       "  <tbody>\n",
       "    <tr>\n",
       "      <th>0</th>\n",
       "      <td>Afghanistan</td>\n",
       "      <td>1975</td>\n",
       "      <td>0.5 [0.2-1.1]</td>\n",
       "      <td>Both sexes</td>\n",
       "    </tr>\n",
       "    <tr>\n",
       "      <th>1</th>\n",
       "      <td>Afghanistan</td>\n",
       "      <td>1975</td>\n",
       "      <td>0.2 [0.0-0.6]</td>\n",
       "      <td>Male</td>\n",
       "    </tr>\n",
       "    <tr>\n",
       "      <th>2</th>\n",
       "      <td>Afghanistan</td>\n",
       "      <td>1975</td>\n",
       "      <td>0.8 [0.2-2.0]</td>\n",
       "      <td>Female</td>\n",
       "    </tr>\n",
       "    <tr>\n",
       "      <th>3</th>\n",
       "      <td>Afghanistan</td>\n",
       "      <td>1976</td>\n",
       "      <td>0.5 [0.2-1.1]</td>\n",
       "      <td>Both sexes</td>\n",
       "    </tr>\n",
       "    <tr>\n",
       "      <th>4</th>\n",
       "      <td>Afghanistan</td>\n",
       "      <td>1976</td>\n",
       "      <td>0.2 [0.0-0.7]</td>\n",
       "      <td>Male</td>\n",
       "    </tr>\n",
       "    <tr>\n",
       "      <th>...</th>\n",
       "      <td>...</td>\n",
       "      <td>...</td>\n",
       "      <td>...</td>\n",
       "      <td>...</td>\n",
       "    </tr>\n",
       "    <tr>\n",
       "      <th>24565</th>\n",
       "      <td>Zimbabwe</td>\n",
       "      <td>2015</td>\n",
       "      <td>4.5 [2.4-7.6]</td>\n",
       "      <td>Male</td>\n",
       "    </tr>\n",
       "    <tr>\n",
       "      <th>24566</th>\n",
       "      <td>Zimbabwe</td>\n",
       "      <td>2015</td>\n",
       "      <td>24.8 [18.9-31.3]</td>\n",
       "      <td>Female</td>\n",
       "    </tr>\n",
       "    <tr>\n",
       "      <th>24567</th>\n",
       "      <td>Zimbabwe</td>\n",
       "      <td>2016</td>\n",
       "      <td>15.5 [12.0-19.2]</td>\n",
       "      <td>Both sexes</td>\n",
       "    </tr>\n",
       "    <tr>\n",
       "      <th>24568</th>\n",
       "      <td>Zimbabwe</td>\n",
       "      <td>2016</td>\n",
       "      <td>4.7 [2.5-8.0]</td>\n",
       "      <td>Male</td>\n",
       "    </tr>\n",
       "    <tr>\n",
       "      <th>24569</th>\n",
       "      <td>Zimbabwe</td>\n",
       "      <td>2016</td>\n",
       "      <td>25.3 [19.1-32.0]</td>\n",
       "      <td>Female</td>\n",
       "    </tr>\n",
       "  </tbody>\n",
       "</table>\n",
       "<p>24570 rows × 4 columns</p>\n",
       "</div>"
      ],
      "text/plain": [
       "           Country  Year       Obesity (%)         Sex\n",
       "0      Afghanistan  1975     0.5 [0.2-1.1]  Both sexes\n",
       "1      Afghanistan  1975     0.2 [0.0-0.6]        Male\n",
       "2      Afghanistan  1975     0.8 [0.2-2.0]      Female\n",
       "3      Afghanistan  1976     0.5 [0.2-1.1]  Both sexes\n",
       "4      Afghanistan  1976     0.2 [0.0-0.7]        Male\n",
       "...            ...   ...               ...         ...\n",
       "24565     Zimbabwe  2015     4.5 [2.4-7.6]        Male\n",
       "24566     Zimbabwe  2015  24.8 [18.9-31.3]      Female\n",
       "24567     Zimbabwe  2016  15.5 [12.0-19.2]  Both sexes\n",
       "24568     Zimbabwe  2016     4.7 [2.5-8.0]        Male\n",
       "24569     Zimbabwe  2016  25.3 [19.1-32.0]      Female\n",
       "\n",
       "[24570 rows x 4 columns]"
      ]
     },
     "execution_count": 4,
     "metadata": {},
     "output_type": "execute_result"
    }
   ],
   "source": [
    "dfObesidade"
   ]
  },
  {
   "cell_type": "markdown",
   "id": "becoming-princeton",
   "metadata": {},
   "source": [
    "## Perguntas - Obesity among adults by country, 1975-2016"
   ]
  },
  {
   "cell_type": "markdown",
   "id": "divine-rebel",
   "metadata": {},
   "source": [
    "- Limpe os dados do DataFrame, criando uma coluna de nome 'Obesity' que conterá os valores de obesidade. Transforme em float as colunas que porventura foram importadas como string."
   ]
  },
  {
   "cell_type": "code",
   "execution_count": 5,
   "id": "2123a0fa",
   "metadata": {},
   "outputs": [
    {
     "data": {
      "text/plain": [
       "'0.5 [0.2-1.1]'"
      ]
     },
     "execution_count": 5,
     "metadata": {},
     "output_type": "execute_result"
    }
   ],
   "source": [
    "dfObesidade[\"Obesity (%)\"].iloc[0]"
   ]
  },
  {
   "cell_type": "code",
   "execution_count": 6,
   "id": "556a17d1",
   "metadata": {},
   "outputs": [
    {
     "data": {
      "text/plain": [
       "Obesity (%)\n",
       "No data            504\n",
       "0.4 [0.1-1.0]       55\n",
       "0.6 [0.2-1.3]       47\n",
       "0.3 [0.1-0.7]       46\n",
       "0.3 [0.1-0.8]       46\n",
       "                  ... \n",
       "9.5 [6.7-13.1]       1\n",
       "4.4 [2.2-7.6]        1\n",
       "14.1 [9.1-20.3]      1\n",
       "9.8 [6.9-13.4]       1\n",
       "4.7 [2.5-8.0]        1\n",
       "Name: count, Length: 16375, dtype: int64"
      ]
     },
     "execution_count": 6,
     "metadata": {},
     "output_type": "execute_result"
    }
   ],
   "source": [
    "dfObesidade[\"Obesity (%)\"].value_counts()"
   ]
  },
  {
   "cell_type": "code",
   "execution_count": 7,
   "id": "639359b2",
   "metadata": {},
   "outputs": [
    {
     "data": {
      "text/plain": [
       "Index(['Country', 'Year', 'Obesity (%)', 'Sex'], dtype='object')"
      ]
     },
     "execution_count": 7,
     "metadata": {},
     "output_type": "execute_result"
    }
   ],
   "source": [
    "dfObesidade.columns"
   ]
  },
  {
   "cell_type": "code",
   "execution_count": 8,
   "id": "79381be6",
   "metadata": {},
   "outputs": [],
   "source": [
    "dfObesidade[\"Obesity\"] = dfObesidade[\"Obesity (%)\"].apply(lambda x: x.split()[0])"
   ]
  },
  {
   "cell_type": "code",
   "execution_count": 9,
   "id": "84e20734",
   "metadata": {},
   "outputs": [
    {
     "data": {
      "text/plain": [
       "0         0.5\n",
       "1         0.2\n",
       "2         0.8\n",
       "3         0.5\n",
       "4         0.2\n",
       "         ... \n",
       "24565     4.5\n",
       "24566    24.8\n",
       "24567    15.5\n",
       "24568     4.7\n",
       "24569    25.3\n",
       "Name: Obesity, Length: 24570, dtype: object"
      ]
     },
     "execution_count": 9,
     "metadata": {},
     "output_type": "execute_result"
    }
   ],
   "source": [
    "dfObesidade[\"Obesity\"]"
   ]
  },
  {
   "cell_type": "code",
   "execution_count": 10,
   "id": "7bb69115",
   "metadata": {},
   "outputs": [],
   "source": [
    "dfObesidade.loc[dfObesidade[\"Obesity\"] == \"No\", \"Obesity\"] = np.nan"
   ]
  },
  {
   "cell_type": "code",
   "execution_count": 11,
   "id": "96ebb789",
   "metadata": {},
   "outputs": [],
   "source": [
    "dfObesidade[\"Obesity\"] = dfObesidade[\"Obesity\"].dropna()"
   ]
  },
  {
   "cell_type": "code",
   "execution_count": 12,
   "id": "69dba302",
   "metadata": {},
   "outputs": [],
   "source": [
    "dfObesidade[\"Obesity\"] = dfObesidade[\"Obesity\"].apply(lambda x: float(x))\n",
    "dfObesidade[\"Year\"] = dfObesidade[\"Year\"].apply(lambda x: int(x))"
   ]
  },
  {
   "cell_type": "code",
   "execution_count": 13,
   "id": "7f52fd76",
   "metadata": {},
   "outputs": [
    {
     "data": {
      "text/html": [
       "<div>\n",
       "<style scoped>\n",
       "    .dataframe tbody tr th:only-of-type {\n",
       "        vertical-align: middle;\n",
       "    }\n",
       "\n",
       "    .dataframe tbody tr th {\n",
       "        vertical-align: top;\n",
       "    }\n",
       "\n",
       "    .dataframe thead th {\n",
       "        text-align: right;\n",
       "    }\n",
       "</style>\n",
       "<table border=\"1\" class=\"dataframe\">\n",
       "  <thead>\n",
       "    <tr style=\"text-align: right;\">\n",
       "      <th></th>\n",
       "      <th>Country</th>\n",
       "      <th>Year</th>\n",
       "      <th>Obesity (%)</th>\n",
       "      <th>Sex</th>\n",
       "      <th>Obesity</th>\n",
       "    </tr>\n",
       "  </thead>\n",
       "  <tbody>\n",
       "    <tr>\n",
       "      <th>0</th>\n",
       "      <td>Afghanistan</td>\n",
       "      <td>1975</td>\n",
       "      <td>0.5 [0.2-1.1]</td>\n",
       "      <td>Both sexes</td>\n",
       "      <td>0.5</td>\n",
       "    </tr>\n",
       "    <tr>\n",
       "      <th>1</th>\n",
       "      <td>Afghanistan</td>\n",
       "      <td>1975</td>\n",
       "      <td>0.2 [0.0-0.6]</td>\n",
       "      <td>Male</td>\n",
       "      <td>0.2</td>\n",
       "    </tr>\n",
       "    <tr>\n",
       "      <th>2</th>\n",
       "      <td>Afghanistan</td>\n",
       "      <td>1975</td>\n",
       "      <td>0.8 [0.2-2.0]</td>\n",
       "      <td>Female</td>\n",
       "      <td>0.8</td>\n",
       "    </tr>\n",
       "    <tr>\n",
       "      <th>3</th>\n",
       "      <td>Afghanistan</td>\n",
       "      <td>1976</td>\n",
       "      <td>0.5 [0.2-1.1]</td>\n",
       "      <td>Both sexes</td>\n",
       "      <td>0.5</td>\n",
       "    </tr>\n",
       "    <tr>\n",
       "      <th>4</th>\n",
       "      <td>Afghanistan</td>\n",
       "      <td>1976</td>\n",
       "      <td>0.2 [0.0-0.7]</td>\n",
       "      <td>Male</td>\n",
       "      <td>0.2</td>\n",
       "    </tr>\n",
       "    <tr>\n",
       "      <th>...</th>\n",
       "      <td>...</td>\n",
       "      <td>...</td>\n",
       "      <td>...</td>\n",
       "      <td>...</td>\n",
       "      <td>...</td>\n",
       "    </tr>\n",
       "    <tr>\n",
       "      <th>24565</th>\n",
       "      <td>Zimbabwe</td>\n",
       "      <td>2015</td>\n",
       "      <td>4.5 [2.4-7.6]</td>\n",
       "      <td>Male</td>\n",
       "      <td>4.5</td>\n",
       "    </tr>\n",
       "    <tr>\n",
       "      <th>24566</th>\n",
       "      <td>Zimbabwe</td>\n",
       "      <td>2015</td>\n",
       "      <td>24.8 [18.9-31.3]</td>\n",
       "      <td>Female</td>\n",
       "      <td>24.8</td>\n",
       "    </tr>\n",
       "    <tr>\n",
       "      <th>24567</th>\n",
       "      <td>Zimbabwe</td>\n",
       "      <td>2016</td>\n",
       "      <td>15.5 [12.0-19.2]</td>\n",
       "      <td>Both sexes</td>\n",
       "      <td>15.5</td>\n",
       "    </tr>\n",
       "    <tr>\n",
       "      <th>24568</th>\n",
       "      <td>Zimbabwe</td>\n",
       "      <td>2016</td>\n",
       "      <td>4.7 [2.5-8.0]</td>\n",
       "      <td>Male</td>\n",
       "      <td>4.7</td>\n",
       "    </tr>\n",
       "    <tr>\n",
       "      <th>24569</th>\n",
       "      <td>Zimbabwe</td>\n",
       "      <td>2016</td>\n",
       "      <td>25.3 [19.1-32.0]</td>\n",
       "      <td>Female</td>\n",
       "      <td>25.3</td>\n",
       "    </tr>\n",
       "  </tbody>\n",
       "</table>\n",
       "<p>24570 rows × 5 columns</p>\n",
       "</div>"
      ],
      "text/plain": [
       "           Country  Year       Obesity (%)         Sex  Obesity\n",
       "0      Afghanistan  1975     0.5 [0.2-1.1]  Both sexes      0.5\n",
       "1      Afghanistan  1975     0.2 [0.0-0.6]        Male      0.2\n",
       "2      Afghanistan  1975     0.8 [0.2-2.0]      Female      0.8\n",
       "3      Afghanistan  1976     0.5 [0.2-1.1]  Both sexes      0.5\n",
       "4      Afghanistan  1976     0.2 [0.0-0.7]        Male      0.2\n",
       "...            ...   ...               ...         ...      ...\n",
       "24565     Zimbabwe  2015     4.5 [2.4-7.6]        Male      4.5\n",
       "24566     Zimbabwe  2015  24.8 [18.9-31.3]      Female     24.8\n",
       "24567     Zimbabwe  2016  15.5 [12.0-19.2]  Both sexes     15.5\n",
       "24568     Zimbabwe  2016     4.7 [2.5-8.0]        Male      4.7\n",
       "24569     Zimbabwe  2016  25.3 [19.1-32.0]      Female     25.3\n",
       "\n",
       "[24570 rows x 5 columns]"
      ]
     },
     "execution_count": 13,
     "metadata": {},
     "output_type": "execute_result"
    }
   ],
   "source": [
    "dfObesidade"
   ]
  },
  {
   "cell_type": "code",
   "execution_count": 14,
   "id": "2e46be9f",
   "metadata": {},
   "outputs": [],
   "source": [
    "dfObesidade.set_index(\"Year\", inplace=True)"
   ]
  },
  {
   "cell_type": "code",
   "execution_count": 15,
   "id": "cubic-minneapolis",
   "metadata": {},
   "outputs": [],
   "source": [
    "dfObesidade[[\"Country\", \"Sex\"]] = dfObesidade[[\"Country\", \"Sex\"]].apply(lambda x: x.astype(\"string\"))"
   ]
  },
  {
   "cell_type": "code",
   "execution_count": 16,
   "id": "3dc640b4",
   "metadata": {},
   "outputs": [
    {
     "name": "stdout",
     "output_type": "stream",
     "text": [
      "<class 'pandas.core.frame.DataFrame'>\n",
      "Index: 24570 entries, 1975 to 2016\n",
      "Data columns (total 4 columns):\n",
      " #   Column       Non-Null Count  Dtype  \n",
      "---  ------       --------------  -----  \n",
      " 0   Country      24570 non-null  string \n",
      " 1   Obesity (%)  24570 non-null  object \n",
      " 2   Sex          24570 non-null  string \n",
      " 3   Obesity      24066 non-null  float64\n",
      "dtypes: float64(1), object(1), string(2)\n",
      "memory usage: 959.8+ KB\n"
     ]
    }
   ],
   "source": [
    "dfObesidade.info()"
   ]
  },
  {
   "cell_type": "markdown",
   "id": "voluntary-temperature",
   "metadata": {},
   "source": [
    "- Qual o percentual médio de obesidade por sexo no mundo no ano de 2015?"
   ]
  },
  {
   "cell_type": "code",
   "execution_count": 17,
   "id": "afraid-reminder",
   "metadata": {},
   "outputs": [
    {
     "data": {
      "text/html": [
       "<div>\n",
       "<style scoped>\n",
       "    .dataframe tbody tr th:only-of-type {\n",
       "        vertical-align: middle;\n",
       "    }\n",
       "\n",
       "    .dataframe tbody tr th {\n",
       "        vertical-align: top;\n",
       "    }\n",
       "\n",
       "    .dataframe thead th {\n",
       "        text-align: right;\n",
       "    }\n",
       "</style>\n",
       "<table border=\"1\" class=\"dataframe\">\n",
       "  <thead>\n",
       "    <tr style=\"text-align: right;\">\n",
       "      <th></th>\n",
       "      <th>Obesity</th>\n",
       "    </tr>\n",
       "    <tr>\n",
       "      <th>Sex</th>\n",
       "      <th></th>\n",
       "    </tr>\n",
       "  </thead>\n",
       "  <tbody>\n",
       "    <tr>\n",
       "      <th>Both sexes</th>\n",
       "      <td>19.508377</td>\n",
       "    </tr>\n",
       "    <tr>\n",
       "      <th>Female</th>\n",
       "      <td>22.899476</td>\n",
       "    </tr>\n",
       "    <tr>\n",
       "      <th>Male</th>\n",
       "      <td>15.980628</td>\n",
       "    </tr>\n",
       "  </tbody>\n",
       "</table>\n",
       "</div>"
      ],
      "text/plain": [
       "              Obesity\n",
       "Sex                  \n",
       "Both sexes  19.508377\n",
       "Female      22.899476\n",
       "Male        15.980628"
      ]
     },
     "execution_count": 17,
     "metadata": {},
     "output_type": "execute_result"
    }
   ],
   "source": [
    "# df2015Homem = dfObesidade[dfObesidade[\"Year\"] == 2015]\n",
    "dfObesidade[dfObesidade.index == 2015].groupby(\"Sex\").mean(numeric_only=True)"
   ]
  },
  {
   "cell_type": "markdown",
   "id": "expected-kruger",
   "metadata": {},
   "source": [
    "- Quais são os 5 países com a maior e a menor taxa de aumento nos índices de obesidade no período observado?"
   ]
  },
  {
   "cell_type": "code",
   "execution_count": 18,
   "id": "phantom-going",
   "metadata": {},
   "outputs": [],
   "source": [
    "dfObesidadeStart = dfObesidade[dfObesidade.index == 1975]\n",
    "dfObesidadeEnd = dfObesidade[dfObesidade.index == 2016]"
   ]
  },
  {
   "cell_type": "code",
   "execution_count": 19,
   "id": "06373915",
   "metadata": {},
   "outputs": [],
   "source": [
    "dfObesidadeStart.set_index(\"Country\", inplace=True)\n",
    "dfObesidadeEnd.set_index(\"Country\", inplace=True)"
   ]
  },
  {
   "cell_type": "code",
   "execution_count": 20,
   "id": "0f207251",
   "metadata": {},
   "outputs": [],
   "source": [
    "dfObesidadeEv = dfObesidadeEnd[dfObesidadeEnd[\"Sex\"] == \"Both Sexes\"][\"Obesity\"] - dfObesidadeStart[dfObesidadeStart[\"Sex\"] == \"Both Sexes\"][\"Obesity\"]"
   ]
  },
  {
   "cell_type": "code",
   "execution_count": 21,
   "id": "088ec64d",
   "metadata": {},
   "outputs": [
    {
     "data": {
      "text/plain": [
       "Series([], Name: Obesity, dtype: float64)"
      ]
     },
     "execution_count": 21,
     "metadata": {},
     "output_type": "execute_result"
    }
   ],
   "source": [
    "dfObesidadeEv.sort_values().dropna().head(5)"
   ]
  },
  {
   "cell_type": "code",
   "execution_count": 22,
   "id": "4ade445d",
   "metadata": {},
   "outputs": [
    {
     "data": {
      "text/plain": [
       "Series([], Name: Obesity, dtype: float64)"
      ]
     },
     "execution_count": 22,
     "metadata": {},
     "output_type": "execute_result"
    }
   ],
   "source": [
    "dfObesidadeEv.sort_values().dropna().tail(5)"
   ]
  },
  {
   "cell_type": "code",
   "execution_count": 23,
   "id": "50917408",
   "metadata": {},
   "outputs": [
    {
     "data": {
      "text/html": [
       "<div>\n",
       "<style scoped>\n",
       "    .dataframe tbody tr th:only-of-type {\n",
       "        vertical-align: middle;\n",
       "    }\n",
       "\n",
       "    .dataframe tbody tr th {\n",
       "        vertical-align: top;\n",
       "    }\n",
       "\n",
       "    .dataframe thead th {\n",
       "        text-align: right;\n",
       "    }\n",
       "</style>\n",
       "<table border=\"1\" class=\"dataframe\">\n",
       "  <thead>\n",
       "    <tr style=\"text-align: right;\">\n",
       "      <th></th>\n",
       "      <th>Obesity (%)</th>\n",
       "      <th>Sex</th>\n",
       "      <th>Obesity</th>\n",
       "    </tr>\n",
       "    <tr>\n",
       "      <th>Country</th>\n",
       "      <th></th>\n",
       "      <th></th>\n",
       "      <th></th>\n",
       "    </tr>\n",
       "  </thead>\n",
       "  <tbody>\n",
       "    <tr>\n",
       "      <th>Tuvalu</th>\n",
       "      <td>51.6 [45.0-57.9]</td>\n",
       "      <td>Both sexes</td>\n",
       "      <td>51.6</td>\n",
       "    </tr>\n",
       "    <tr>\n",
       "      <th>Tuvalu</th>\n",
       "      <td>47.0 [37.7-56.4]</td>\n",
       "      <td>Male</td>\n",
       "      <td>47.0</td>\n",
       "    </tr>\n",
       "    <tr>\n",
       "      <th>Tuvalu</th>\n",
       "      <td>56.2 [47.3-64.4]</td>\n",
       "      <td>Female</td>\n",
       "      <td>56.2</td>\n",
       "    </tr>\n",
       "  </tbody>\n",
       "</table>\n",
       "</div>"
      ],
      "text/plain": [
       "              Obesity (%)         Sex  Obesity\n",
       "Country                                       \n",
       "Tuvalu   51.6 [45.0-57.9]  Both sexes     51.6\n",
       "Tuvalu   47.0 [37.7-56.4]        Male     47.0\n",
       "Tuvalu   56.2 [47.3-64.4]      Female     56.2"
      ]
     },
     "execution_count": 23,
     "metadata": {},
     "output_type": "execute_result"
    }
   ],
   "source": [
    "dfObesidadeEnd[dfObesidadeEnd.index == \"Tuvalu\"]"
   ]
  },
  {
   "cell_type": "markdown",
   "id": "efficient-buyer",
   "metadata": {},
   "source": [
    "- Quais os países com maiores e menores níveis percetuais de obesidade em 2015?"
   ]
  },
  {
   "cell_type": "code",
   "execution_count": 24,
   "id": "violent-warren",
   "metadata": {},
   "outputs": [
    {
     "data": {
      "text/html": [
       "<div>\n",
       "<style scoped>\n",
       "    .dataframe tbody tr th:only-of-type {\n",
       "        vertical-align: middle;\n",
       "    }\n",
       "\n",
       "    .dataframe tbody tr th {\n",
       "        vertical-align: top;\n",
       "    }\n",
       "\n",
       "    .dataframe thead th {\n",
       "        text-align: right;\n",
       "    }\n",
       "</style>\n",
       "<table border=\"1\" class=\"dataframe\">\n",
       "  <thead>\n",
       "    <tr style=\"text-align: right;\">\n",
       "      <th></th>\n",
       "      <th>Country</th>\n",
       "      <th>Obesity (%)</th>\n",
       "      <th>Sex</th>\n",
       "      <th>Obesity</th>\n",
       "    </tr>\n",
       "    <tr>\n",
       "      <th>Year</th>\n",
       "      <th></th>\n",
       "      <th></th>\n",
       "      <th></th>\n",
       "      <th></th>\n",
       "    </tr>\n",
       "  </thead>\n",
       "  <tbody>\n",
       "    <tr>\n",
       "      <th>2015</th>\n",
       "      <td>Nauru</td>\n",
       "      <td>63.1 [55.5-70.3]</td>\n",
       "      <td>Female</td>\n",
       "      <td>63.1</td>\n",
       "    </tr>\n",
       "  </tbody>\n",
       "</table>\n",
       "</div>"
      ],
      "text/plain": [
       "     Country       Obesity (%)     Sex  Obesity\n",
       "Year                                           \n",
       "2015   Nauru  63.1 [55.5-70.3]  Female     63.1"
      ]
     },
     "execution_count": 24,
     "metadata": {},
     "output_type": "execute_result"
    }
   ],
   "source": [
    "df2015 = dfObesidade[dfObesidade.index == 2015]\n",
    "df2015[df2015[\"Obesity\"] == df2015[\"Obesity\"].max()]"
   ]
  },
  {
   "cell_type": "markdown",
   "id": "average-holiday",
   "metadata": {},
   "source": [
    "- Qual a diferença média percentual de obesidade entre sexos ao longo dos anos para o Brasil?"
   ]
  },
  {
   "cell_type": "code",
   "execution_count": 25,
   "id": "later-occurrence",
   "metadata": {},
   "outputs": [],
   "source": [
    "dfBrasil = dfObesidade[dfObesidade[\"Country\"] == \"Brazil\"]"
   ]
  },
  {
   "cell_type": "code",
   "execution_count": 26,
   "id": "ea6f9318",
   "metadata": {},
   "outputs": [
    {
     "data": {
      "text/plain": [
       "<Axes: xlabel='Year'>"
      ]
     },
     "execution_count": 26,
     "metadata": {},
     "output_type": "execute_result"
    },
    {
     "data": {
      "image/png": "[encoded data removed]",
      "text/plain": [
       "<Figure size 640x480 with 1 Axes>"
      ]
     },
     "metadata": {},
     "output_type": "display_data"
    }
   ],
   "source": [
    "(dfBrasil[dfBrasil[\"Sex\"] == \"Female\"][\"Obesity\"] - dfBrasil[dfBrasil[\"Sex\"] == \"Male\"][\"Obesity\"]).plot()"
   ]
  },
  {
   "cell_type": "markdown",
   "id": "rising-exhaust",
   "metadata": {},
   "source": [
    "- Você conseguiria plotar um gráfico mostrando a evolução da obesidade para ambos sexos no mundo?"
   ]
  },
  {
   "cell_type": "code",
   "execution_count": 27,
   "id": "senior-recruitment",
   "metadata": {},
   "outputs": [
    {
     "data": {
      "text/plain": [
       "<Axes: xlabel='Year'>"
      ]
     },
     "execution_count": 27,
     "metadata": {},
     "output_type": "execute_result"
    },
    {
     "data": {
      "image/png": "[encoded data removed]",
      "text/plain": [
       "<Figure size 640x480 with 1 Axes>"
      ]
     },
     "metadata": {},
     "output_type": "display_data"
    }
   ],
   "source": [
    "dfBoth = dfObesidade[dfObesidade[\"Sex\"] == \"Both sexes\"]\n",
    "dfBoth.groupby(\"Year\")[\"Obesity\"].mean().plot()"
   ]
  },
  {
   "cell_type": "markdown",
   "id": "labeled-rainbow",
   "metadata": {},
   "source": [
    "## Perguntas - GDP Per Person (1901-2011)"
   ]
  },
  {
   "cell_type": "code",
   "execution_count": 28,
   "id": "57c86f36",
   "metadata": {},
   "outputs": [
    {
     "data": {
      "text/html": [
       "<div>\n",
       "<style scoped>\n",
       "    .dataframe tbody tr th:only-of-type {\n",
       "        vertical-align: middle;\n",
       "    }\n",
       "\n",
       "    .dataframe tbody tr th {\n",
       "        vertical-align: top;\n",
       "    }\n",
       "\n",
       "    .dataframe thead th {\n",
       "        text-align: right;\n",
       "    }\n",
       "</style>\n",
       "<table border=\"1\" class=\"dataframe\">\n",
       "  <thead>\n",
       "    <tr style=\"text-align: right;\">\n",
       "      <th></th>\n",
       "      <th>Country</th>\n",
       "      <th>Region</th>\n",
       "      <th>Year</th>\n",
       "      <th>GDP_pp</th>\n",
       "    </tr>\n",
       "  </thead>\n",
       "  <tbody>\n",
       "    <tr>\n",
       "      <th>0</th>\n",
       "      <td>Afghanistan</td>\n",
       "      <td>Middle East, North Africa, and Greater Arabia</td>\n",
       "      <td>1/1/1901</td>\n",
       "      <td>613.99</td>\n",
       "    </tr>\n",
       "    <tr>\n",
       "      <th>1</th>\n",
       "      <td>Afghanistan</td>\n",
       "      <td>Middle East, North Africa, and Greater Arabia</td>\n",
       "      <td>1/1/1906</td>\n",
       "      <td>624.04</td>\n",
       "    </tr>\n",
       "    <tr>\n",
       "      <th>2</th>\n",
       "      <td>Afghanistan</td>\n",
       "      <td>Middle East, North Africa, and Greater Arabia</td>\n",
       "      <td>1/1/1911</td>\n",
       "      <td>634.25</td>\n",
       "    </tr>\n",
       "    <tr>\n",
       "      <th>3</th>\n",
       "      <td>Afghanistan</td>\n",
       "      <td>Middle East, North Africa, and Greater Arabia</td>\n",
       "      <td>1/1/1916</td>\n",
       "      <td>647.28</td>\n",
       "    </tr>\n",
       "    <tr>\n",
       "      <th>4</th>\n",
       "      <td>Afghanistan</td>\n",
       "      <td>Middle East, North Africa, and Greater Arabia</td>\n",
       "      <td>1/1/1921</td>\n",
       "      <td>662.40</td>\n",
       "    </tr>\n",
       "    <tr>\n",
       "      <th>...</th>\n",
       "      <td>...</td>\n",
       "      <td>...</td>\n",
       "      <td>...</td>\n",
       "      <td>...</td>\n",
       "    </tr>\n",
       "    <tr>\n",
       "      <th>4414</th>\n",
       "      <td>Zimbabwe</td>\n",
       "      <td>Sub-Saharan Africa</td>\n",
       "      <td>1/1/1991</td>\n",
       "      <td>782.09</td>\n",
       "    </tr>\n",
       "    <tr>\n",
       "      <th>4415</th>\n",
       "      <td>Zimbabwe</td>\n",
       "      <td>Sub-Saharan Africa</td>\n",
       "      <td>1/1/1996</td>\n",
       "      <td>781.50</td>\n",
       "    </tr>\n",
       "    <tr>\n",
       "      <th>4416</th>\n",
       "      <td>Zimbabwe</td>\n",
       "      <td>Sub-Saharan Africa</td>\n",
       "      <td>1/1/2001</td>\n",
       "      <td>719.96</td>\n",
       "    </tr>\n",
       "    <tr>\n",
       "      <th>4417</th>\n",
       "      <td>Zimbabwe</td>\n",
       "      <td>Sub-Saharan Africa</td>\n",
       "      <td>1/1/2006</td>\n",
       "      <td>520.17</td>\n",
       "    </tr>\n",
       "    <tr>\n",
       "      <th>4418</th>\n",
       "      <td>Zimbabwe</td>\n",
       "      <td>Sub-Saharan Africa</td>\n",
       "      <td>1/1/2011</td>\n",
       "      <td>526.33</td>\n",
       "    </tr>\n",
       "  </tbody>\n",
       "</table>\n",
       "<p>4419 rows × 4 columns</p>\n",
       "</div>"
      ],
      "text/plain": [
       "          Country                                         Region      Year  \\\n",
       "0     Afghanistan  Middle East, North Africa, and Greater Arabia  1/1/1901   \n",
       "1     Afghanistan  Middle East, North Africa, and Greater Arabia  1/1/1906   \n",
       "2     Afghanistan  Middle East, North Africa, and Greater Arabia  1/1/1911   \n",
       "3     Afghanistan  Middle East, North Africa, and Greater Arabia  1/1/1916   \n",
       "4     Afghanistan  Middle East, North Africa, and Greater Arabia  1/1/1921   \n",
       "...           ...                                            ...       ...   \n",
       "4414     Zimbabwe                             Sub-Saharan Africa  1/1/1991   \n",
       "4415     Zimbabwe                             Sub-Saharan Africa  1/1/1996   \n",
       "4416     Zimbabwe                             Sub-Saharan Africa  1/1/2001   \n",
       "4417     Zimbabwe                             Sub-Saharan Africa  1/1/2006   \n",
       "4418     Zimbabwe                             Sub-Saharan Africa  1/1/2011   \n",
       "\n",
       "       GDP_pp   \n",
       "0      613.99   \n",
       "1      624.04   \n",
       "2      634.25   \n",
       "3      647.28   \n",
       "4      662.40   \n",
       "...        ...  \n",
       "4414   782.09   \n",
       "4415   781.50   \n",
       "4416   719.96   \n",
       "4417   520.17   \n",
       "4418   526.33   \n",
       "\n",
       "[4419 rows x 4 columns]"
      ]
     },
     "execution_count": 28,
     "metadata": {},
     "output_type": "execute_result"
    }
   ],
   "source": [
    "dfGDP"
   ]
  },
  {
   "cell_type": "markdown",
   "id": "suffering-guitar",
   "metadata": {},
   "source": [
    "- Limpe o conjunto de dados, convertendo strings em datas ou float, quando necessário."
   ]
  },
  {
   "cell_type": "code",
   "execution_count": 29,
   "id": "fundamental-occasions",
   "metadata": {},
   "outputs": [
    {
     "data": {
      "text/plain": [
       "0       1/1/1901\n",
       "1       1/1/1906\n",
       "2       1/1/1911\n",
       "3       1/1/1916\n",
       "4       1/1/1921\n",
       "          ...   \n",
       "4414    1/1/1991\n",
       "4415    1/1/1996\n",
       "4416    1/1/2001\n",
       "4417    1/1/2006\n",
       "4418    1/1/2011\n",
       "Name: Year, Length: 4419, dtype: object"
      ]
     },
     "execution_count": 29,
     "metadata": {},
     "output_type": "execute_result"
    }
   ],
   "source": [
    "dfGDP[\"Year\"]"
   ]
  },
  {
   "cell_type": "code",
   "execution_count": 30,
   "id": "443bd12f",
   "metadata": {},
   "outputs": [
    {
     "data": {
      "text/plain": [
       "'1/1/1901'"
      ]
     },
     "execution_count": 30,
     "metadata": {},
     "output_type": "execute_result"
    }
   ],
   "source": [
    "dfGDP[\"Year\"].iloc[0]"
   ]
  },
  {
   "cell_type": "code",
   "execution_count": 31,
   "id": "a2e2cea1",
   "metadata": {},
   "outputs": [],
   "source": [
    "dfGDP[\"Year\"] = dfGDP[\"Year\"].apply(lambda x: int(x.split(\"/\")[-1]))"
   ]
  },
  {
   "cell_type": "code",
   "execution_count": 32,
   "id": "07ea3bd9",
   "metadata": {},
   "outputs": [
    {
     "data": {
      "text/plain": [
       "Index(['Country', 'Region', 'Year', ' GDP_pp '], dtype='object')"
      ]
     },
     "execution_count": 32,
     "metadata": {},
     "output_type": "execute_result"
    }
   ],
   "source": [
    "dfGDP.columns"
   ]
  },
  {
   "cell_type": "code",
   "execution_count": 33,
   "id": "d9eb0914",
   "metadata": {},
   "outputs": [
    {
     "data": {
      "text/html": [
       "<div>\n",
       "<style scoped>\n",
       "    .dataframe tbody tr th:only-of-type {\n",
       "        vertical-align: middle;\n",
       "    }\n",
       "\n",
       "    .dataframe tbody tr th {\n",
       "        vertical-align: top;\n",
       "    }\n",
       "\n",
       "    .dataframe thead th {\n",
       "        text-align: right;\n",
       "    }\n",
       "</style>\n",
       "<table border=\"1\" class=\"dataframe\">\n",
       "  <thead>\n",
       "    <tr style=\"text-align: right;\">\n",
       "      <th></th>\n",
       "      <th>Country</th>\n",
       "      <th>Region</th>\n",
       "      <th>Year</th>\n",
       "      <th>GDP_pp</th>\n",
       "    </tr>\n",
       "  </thead>\n",
       "  <tbody>\n",
       "    <tr>\n",
       "      <th>0</th>\n",
       "      <td>Afghanistan</td>\n",
       "      <td>Middle East, North Africa, and Greater Arabia</td>\n",
       "      <td>1901</td>\n",
       "      <td>613.99</td>\n",
       "    </tr>\n",
       "    <tr>\n",
       "      <th>1</th>\n",
       "      <td>Afghanistan</td>\n",
       "      <td>Middle East, North Africa, and Greater Arabia</td>\n",
       "      <td>1906</td>\n",
       "      <td>624.04</td>\n",
       "    </tr>\n",
       "    <tr>\n",
       "      <th>2</th>\n",
       "      <td>Afghanistan</td>\n",
       "      <td>Middle East, North Africa, and Greater Arabia</td>\n",
       "      <td>1911</td>\n",
       "      <td>634.25</td>\n",
       "    </tr>\n",
       "    <tr>\n",
       "      <th>3</th>\n",
       "      <td>Afghanistan</td>\n",
       "      <td>Middle East, North Africa, and Greater Arabia</td>\n",
       "      <td>1916</td>\n",
       "      <td>647.28</td>\n",
       "    </tr>\n",
       "    <tr>\n",
       "      <th>4</th>\n",
       "      <td>Afghanistan</td>\n",
       "      <td>Middle East, North Africa, and Greater Arabia</td>\n",
       "      <td>1921</td>\n",
       "      <td>662.40</td>\n",
       "    </tr>\n",
       "    <tr>\n",
       "      <th>...</th>\n",
       "      <td>...</td>\n",
       "      <td>...</td>\n",
       "      <td>...</td>\n",
       "      <td>...</td>\n",
       "    </tr>\n",
       "    <tr>\n",
       "      <th>4414</th>\n",
       "      <td>Zimbabwe</td>\n",
       "      <td>Sub-Saharan Africa</td>\n",
       "      <td>1991</td>\n",
       "      <td>782.09</td>\n",
       "    </tr>\n",
       "    <tr>\n",
       "      <th>4415</th>\n",
       "      <td>Zimbabwe</td>\n",
       "      <td>Sub-Saharan Africa</td>\n",
       "      <td>1996</td>\n",
       "      <td>781.50</td>\n",
       "    </tr>\n",
       "    <tr>\n",
       "      <th>4416</th>\n",
       "      <td>Zimbabwe</td>\n",
       "      <td>Sub-Saharan Africa</td>\n",
       "      <td>2001</td>\n",
       "      <td>719.96</td>\n",
       "    </tr>\n",
       "    <tr>\n",
       "      <th>4417</th>\n",
       "      <td>Zimbabwe</td>\n",
       "      <td>Sub-Saharan Africa</td>\n",
       "      <td>2006</td>\n",
       "      <td>520.17</td>\n",
       "    </tr>\n",
       "    <tr>\n",
       "      <th>4418</th>\n",
       "      <td>Zimbabwe</td>\n",
       "      <td>Sub-Saharan Africa</td>\n",
       "      <td>2011</td>\n",
       "      <td>526.33</td>\n",
       "    </tr>\n",
       "  </tbody>\n",
       "</table>\n",
       "<p>4419 rows × 4 columns</p>\n",
       "</div>"
      ],
      "text/plain": [
       "          Country                                         Region  Year  \\\n",
       "0     Afghanistan  Middle East, North Africa, and Greater Arabia  1901   \n",
       "1     Afghanistan  Middle East, North Africa, and Greater Arabia  1906   \n",
       "2     Afghanistan  Middle East, North Africa, and Greater Arabia  1911   \n",
       "3     Afghanistan  Middle East, North Africa, and Greater Arabia  1916   \n",
       "4     Afghanistan  Middle East, North Africa, and Greater Arabia  1921   \n",
       "...           ...                                            ...   ...   \n",
       "4414     Zimbabwe                             Sub-Saharan Africa  1991   \n",
       "4415     Zimbabwe                             Sub-Saharan Africa  1996   \n",
       "4416     Zimbabwe                             Sub-Saharan Africa  2001   \n",
       "4417     Zimbabwe                             Sub-Saharan Africa  2006   \n",
       "4418     Zimbabwe                             Sub-Saharan Africa  2011   \n",
       "\n",
       "       GDP_pp   \n",
       "0      613.99   \n",
       "1      624.04   \n",
       "2      634.25   \n",
       "3      647.28   \n",
       "4      662.40   \n",
       "...        ...  \n",
       "4414   782.09   \n",
       "4415   781.50   \n",
       "4416   719.96   \n",
       "4417   520.17   \n",
       "4418   526.33   \n",
       "\n",
       "[4419 rows x 4 columns]"
      ]
     },
     "execution_count": 33,
     "metadata": {},
     "output_type": "execute_result"
    }
   ],
   "source": [
    "dfGDP"
   ]
  },
  {
   "cell_type": "code",
   "execution_count": 34,
   "id": "005638ae",
   "metadata": {},
   "outputs": [
    {
     "data": {
      "text/plain": [
       "' 613.99 '"
      ]
     },
     "execution_count": 34,
     "metadata": {},
     "output_type": "execute_result"
    }
   ],
   "source": [
    "dfGDP[\" GDP_pp \"].iloc[0]"
   ]
  },
  {
   "cell_type": "code",
   "execution_count": 35,
   "id": "d4b90d77",
   "metadata": {},
   "outputs": [],
   "source": [
    "dfGDP[\"GDP_PP\"] = dfGDP[\" GDP_pp \"].apply(lambda x: float(x.split()[0].replace(\",\", \"\")))"
   ]
  },
  {
   "cell_type": "code",
   "execution_count": 36,
   "id": "2f736206",
   "metadata": {},
   "outputs": [],
   "source": [
    "del dfGDP[\" GDP_pp \"]"
   ]
  },
  {
   "cell_type": "code",
   "execution_count": 37,
   "id": "5e56dfff",
   "metadata": {},
   "outputs": [
    {
     "data": {
      "text/html": [
       "<div>\n",
       "<style scoped>\n",
       "    .dataframe tbody tr th:only-of-type {\n",
       "        vertical-align: middle;\n",
       "    }\n",
       "\n",
       "    .dataframe tbody tr th {\n",
       "        vertical-align: top;\n",
       "    }\n",
       "\n",
       "    .dataframe thead th {\n",
       "        text-align: right;\n",
       "    }\n",
       "</style>\n",
       "<table border=\"1\" class=\"dataframe\">\n",
       "  <thead>\n",
       "    <tr style=\"text-align: right;\">\n",
       "      <th></th>\n",
       "      <th>Country</th>\n",
       "      <th>Region</th>\n",
       "      <th>Year</th>\n",
       "      <th>GDP_PP</th>\n",
       "    </tr>\n",
       "  </thead>\n",
       "  <tbody>\n",
       "    <tr>\n",
       "      <th>0</th>\n",
       "      <td>Afghanistan</td>\n",
       "      <td>Middle East, North Africa, and Greater Arabia</td>\n",
       "      <td>1901</td>\n",
       "      <td>613.99</td>\n",
       "    </tr>\n",
       "    <tr>\n",
       "      <th>1</th>\n",
       "      <td>Afghanistan</td>\n",
       "      <td>Middle East, North Africa, and Greater Arabia</td>\n",
       "      <td>1906</td>\n",
       "      <td>624.04</td>\n",
       "    </tr>\n",
       "    <tr>\n",
       "      <th>2</th>\n",
       "      <td>Afghanistan</td>\n",
       "      <td>Middle East, North Africa, and Greater Arabia</td>\n",
       "      <td>1911</td>\n",
       "      <td>634.25</td>\n",
       "    </tr>\n",
       "    <tr>\n",
       "      <th>3</th>\n",
       "      <td>Afghanistan</td>\n",
       "      <td>Middle East, North Africa, and Greater Arabia</td>\n",
       "      <td>1916</td>\n",
       "      <td>647.28</td>\n",
       "    </tr>\n",
       "    <tr>\n",
       "      <th>4</th>\n",
       "      <td>Afghanistan</td>\n",
       "      <td>Middle East, North Africa, and Greater Arabia</td>\n",
       "      <td>1921</td>\n",
       "      <td>662.40</td>\n",
       "    </tr>\n",
       "    <tr>\n",
       "      <th>...</th>\n",
       "      <td>...</td>\n",
       "      <td>...</td>\n",
       "      <td>...</td>\n",
       "      <td>...</td>\n",
       "    </tr>\n",
       "    <tr>\n",
       "      <th>4414</th>\n",
       "      <td>Zimbabwe</td>\n",
       "      <td>Sub-Saharan Africa</td>\n",
       "      <td>1991</td>\n",
       "      <td>782.09</td>\n",
       "    </tr>\n",
       "    <tr>\n",
       "      <th>4415</th>\n",
       "      <td>Zimbabwe</td>\n",
       "      <td>Sub-Saharan Africa</td>\n",
       "      <td>1996</td>\n",
       "      <td>781.50</td>\n",
       "    </tr>\n",
       "    <tr>\n",
       "      <th>4416</th>\n",
       "      <td>Zimbabwe</td>\n",
       "      <td>Sub-Saharan Africa</td>\n",
       "      <td>2001</td>\n",
       "      <td>719.96</td>\n",
       "    </tr>\n",
       "    <tr>\n",
       "      <th>4417</th>\n",
       "      <td>Zimbabwe</td>\n",
       "      <td>Sub-Saharan Africa</td>\n",
       "      <td>2006</td>\n",
       "      <td>520.17</td>\n",
       "    </tr>\n",
       "    <tr>\n",
       "      <th>4418</th>\n",
       "      <td>Zimbabwe</td>\n",
       "      <td>Sub-Saharan Africa</td>\n",
       "      <td>2011</td>\n",
       "      <td>526.33</td>\n",
       "    </tr>\n",
       "  </tbody>\n",
       "</table>\n",
       "<p>4419 rows × 4 columns</p>\n",
       "</div>"
      ],
      "text/plain": [
       "          Country                                         Region  Year  GDP_PP\n",
       "0     Afghanistan  Middle East, North Africa, and Greater Arabia  1901  613.99\n",
       "1     Afghanistan  Middle East, North Africa, and Greater Arabia  1906  624.04\n",
       "2     Afghanistan  Middle East, North Africa, and Greater Arabia  1911  634.25\n",
       "3     Afghanistan  Middle East, North Africa, and Greater Arabia  1916  647.28\n",
       "4     Afghanistan  Middle East, North Africa, and Greater Arabia  1921  662.40\n",
       "...           ...                                            ...   ...     ...\n",
       "4414     Zimbabwe                             Sub-Saharan Africa  1991  782.09\n",
       "4415     Zimbabwe                             Sub-Saharan Africa  1996  781.50\n",
       "4416     Zimbabwe                             Sub-Saharan Africa  2001  719.96\n",
       "4417     Zimbabwe                             Sub-Saharan Africa  2006  520.17\n",
       "4418     Zimbabwe                             Sub-Saharan Africa  2011  526.33\n",
       "\n",
       "[4419 rows x 4 columns]"
      ]
     },
     "execution_count": 37,
     "metadata": {},
     "output_type": "execute_result"
    }
   ],
   "source": [
    "dfGDP"
   ]
  },
  {
   "cell_type": "markdown",
   "id": "studied-validity",
   "metadata": {},
   "source": [
    "- Você conseguiria informar o primeiro valor registrado de cada país?"
   ]
  },
  {
   "cell_type": "code",
   "execution_count": 38,
   "id": "frequent-rental",
   "metadata": {},
   "outputs": [
    {
     "data": {
      "text/plain": [
       "Country\n",
       "Afghanistan    1901\n",
       "Albania        1901\n",
       "Algeria        1901\n",
       "Andorra        1901\n",
       "Angola         1901\n",
       "               ... \n",
       "Venezuela      1901\n",
       "Vietnam        1901\n",
       "Yemen, Rep.    1901\n",
       "Zambia         1901\n",
       "Zimbabwe       1901\n",
       "Name: Year, Length: 193, dtype: int64"
      ]
     },
     "execution_count": 38,
     "metadata": {},
     "output_type": "execute_result"
    }
   ],
   "source": [
    "dfGDP.groupby(\"Country\")[\"Year\"].min()"
   ]
  },
  {
   "cell_type": "code",
   "execution_count": 39,
   "id": "2a972647",
   "metadata": {},
   "outputs": [
    {
     "data": {
      "text/plain": [
       "1991"
      ]
     },
     "execution_count": 39,
     "metadata": {},
     "output_type": "execute_result"
    }
   ],
   "source": [
    "dfGDP.groupby(\"Country\")[\"Year\"].min().max()"
   ]
  },
  {
   "cell_type": "code",
   "execution_count": 40,
   "id": "ce9a7950",
   "metadata": {},
   "outputs": [
    {
     "data": {
      "text/plain": [
       "Year\n",
       "1901    192\n",
       "1991      1\n",
       "Name: count, dtype: int64"
      ]
     },
     "execution_count": 40,
     "metadata": {},
     "output_type": "execute_result"
    }
   ],
   "source": [
    "dfGDP.groupby(\"Country\")[\"Year\"].min().value_counts()"
   ]
  },
  {
   "cell_type": "code",
   "execution_count": 41,
   "id": "d5ca10de",
   "metadata": {},
   "outputs": [
    {
     "data": {
      "text/plain": [
       "Country\n",
       "Kosovo    1991\n",
       "Name: Year, dtype: int64"
      ]
     },
     "execution_count": 41,
     "metadata": {},
     "output_type": "execute_result"
    }
   ],
   "source": [
    "dfGDP.groupby(\"Country\")[\"Year\"].min()[dfGDP.groupby(\"Country\")[\"Year\"].min() == 1991]"
   ]
  },
  {
   "cell_type": "markdown",
   "id": "tutorial-softball",
   "metadata": {},
   "source": [
    "- Informe as regiões com maiores crescimentos de PIB per capita no século passado."
   ]
  },
  {
   "cell_type": "code",
   "execution_count": 42,
   "id": "47254d71",
   "metadata": {},
   "outputs": [
    {
     "data": {
      "text/plain": [
       "Country              Zimbabwe\n",
       "Region     Sub-Saharan Africa\n",
       "Year                     1996\n",
       "GDP_PP               118681.3\n",
       "dtype: object"
      ]
     },
     "execution_count": 42,
     "metadata": {},
     "output_type": "execute_result"
    }
   ],
   "source": [
    "dfGDP[dfGDP[\"Year\"] < 2000].max()"
   ]
  },
  {
   "cell_type": "code",
   "execution_count": 43,
   "id": "given-colorado",
   "metadata": {},
   "outputs": [],
   "source": [
    "dfGDPStart = dfGDP[dfGDP[\"Year\"] == 1901]\n",
    "dfGDPEnd = dfGDP[dfGDP[\"Year\"] == 1996]"
   ]
  },
  {
   "cell_type": "code",
   "execution_count": 44,
   "id": "3d4846ec",
   "metadata": {},
   "outputs": [
    {
     "data": {
      "text/plain": [
       "Region\n",
       "Sub-Saharan Africa                               248.633780\n",
       "South America                                    312.123735\n",
       "Australia and Oceania                            396.075383\n",
       "Central America and the Caribbean                406.426789\n",
       "North America                                    589.760175\n",
       "Europe                                           594.046167\n",
       "Asia                                             711.761516\n",
       "Middle East, North Africa, and Greater Arabia    857.215950\n",
       "Name: GDP_PP, dtype: float64"
      ]
     },
     "execution_count": 44,
     "metadata": {},
     "output_type": "execute_result"
    }
   ],
   "source": [
    "((dfGDPEnd.groupby(\"Region\")[\"GDP_PP\"].mean() / dfGDPStart.groupby(\"Region\")[\"GDP_PP\"].mean() - 1) * 100).sort_values()"
   ]
  },
  {
   "cell_type": "markdown",
   "id": "textile-afternoon",
   "metadata": {},
   "source": [
    "- Preecha os anos ausentes em cada país com uma estimativa, baseada na diferença entre o próximo registro e o anterior."
   ]
  },
  {
   "cell_type": "code",
   "execution_count": 45,
   "id": "hydraulic-confidentiality",
   "metadata": {},
   "outputs": [
    {
     "data": {
      "text/plain": [
       "Year\n",
       "1901    False\n",
       "1902     True\n",
       "1903     True\n",
       "1904     True\n",
       "1905     True\n",
       "        ...  \n",
       "2006    False\n",
       "2007     True\n",
       "2008     True\n",
       "2009     True\n",
       "2010     True\n",
       "Name: Year, Length: 110, dtype: bool"
      ]
     },
     "execution_count": 45,
     "metadata": {},
     "output_type": "execute_result"
    }
   ],
   "source": [
    "arrayAno = np.arange(dfGDP[\"Year\"].min(), dfGDP[\"Year\"].max())\n",
    "dfTodosAnos = pd.DataFrame(arrayAno, columns=[\"Year\"])\n",
    "dfTodosAnos.index = dfTodosAnos[\"Year\"]\n",
    "dfAnosOff = ~dfTodosAnos[\"Year\"].isin(dfGDP[\"Year\"])\n",
    "dfAnosOff"
   ]
  },
  {
   "cell_type": "code",
   "execution_count": 46,
   "id": "1c5adb75",
   "metadata": {},
   "outputs": [
    {
     "data": {
      "text/plain": [
       "Index([1902, 1903, 1904, 1905, 1907, 1908, 1909, 1910, 1912, 1913, 1914, 1915,\n",
       "       1917, 1918, 1919, 1920, 1922, 1923, 1924, 1925, 1927, 1928, 1929, 1930,\n",
       "       1932, 1933, 1934, 1935, 1937, 1938, 1939, 1940, 1942, 1943, 1944, 1945,\n",
       "       1947, 1948, 1949, 1950, 1952, 1953, 1954, 1955, 1957, 1958, 1959, 1960,\n",
       "       1962, 1963, 1964, 1965, 1967, 1968, 1969, 1970, 1972, 1973, 1974, 1975,\n",
       "       1977, 1978, 1979, 1980, 1982, 1983, 1984, 1985, 1987, 1988, 1989, 1990,\n",
       "       1992, 1993, 1994, 1995, 1997, 1998, 1999, 2000, 2002, 2003, 2004, 2005,\n",
       "       2007, 2008, 2009, 2010],\n",
       "      dtype='int64', name='Year')"
      ]
     },
     "execution_count": 46,
     "metadata": {},
     "output_type": "execute_result"
    }
   ],
   "source": [
    "dfAnosOff = dfTodosAnos.loc[dfAnosOff].index\n",
    "dfAnosOff"
   ]
  },
  {
   "cell_type": "code",
   "execution_count": 47,
   "id": "42b17c6a",
   "metadata": {},
   "outputs": [
    {
     "data": {
      "text/html": [
       "<div>\n",
       "<style scoped>\n",
       "    .dataframe tbody tr th:only-of-type {\n",
       "        vertical-align: middle;\n",
       "    }\n",
       "\n",
       "    .dataframe tbody tr th {\n",
       "        vertical-align: top;\n",
       "    }\n",
       "\n",
       "    .dataframe thead th {\n",
       "        text-align: right;\n",
       "    }\n",
       "</style>\n",
       "<table border=\"1\" class=\"dataframe\">\n",
       "  <thead>\n",
       "    <tr style=\"text-align: right;\">\n",
       "      <th></th>\n",
       "      <th>Country</th>\n",
       "      <th>Region</th>\n",
       "      <th>Year</th>\n",
       "      <th>GDP_PP</th>\n",
       "      <th>deltaGDP</th>\n",
       "      <th>deltaAno</th>\n",
       "    </tr>\n",
       "  </thead>\n",
       "  <tbody>\n",
       "    <tr>\n",
       "      <th>0</th>\n",
       "      <td>Afghanistan</td>\n",
       "      <td>Middle East, North Africa, and Greater Arabia</td>\n",
       "      <td>1901</td>\n",
       "      <td>613.99</td>\n",
       "      <td>NaN</td>\n",
       "      <td>NaN</td>\n",
       "    </tr>\n",
       "    <tr>\n",
       "      <th>1</th>\n",
       "      <td>Afghanistan</td>\n",
       "      <td>Middle East, North Africa, and Greater Arabia</td>\n",
       "      <td>1906</td>\n",
       "      <td>624.04</td>\n",
       "      <td>10.05</td>\n",
       "      <td>5.0</td>\n",
       "    </tr>\n",
       "    <tr>\n",
       "      <th>2</th>\n",
       "      <td>Afghanistan</td>\n",
       "      <td>Middle East, North Africa, and Greater Arabia</td>\n",
       "      <td>1911</td>\n",
       "      <td>634.25</td>\n",
       "      <td>10.21</td>\n",
       "      <td>5.0</td>\n",
       "    </tr>\n",
       "    <tr>\n",
       "      <th>3</th>\n",
       "      <td>Afghanistan</td>\n",
       "      <td>Middle East, North Africa, and Greater Arabia</td>\n",
       "      <td>1916</td>\n",
       "      <td>647.28</td>\n",
       "      <td>13.03</td>\n",
       "      <td>5.0</td>\n",
       "    </tr>\n",
       "    <tr>\n",
       "      <th>4</th>\n",
       "      <td>Afghanistan</td>\n",
       "      <td>Middle East, North Africa, and Greater Arabia</td>\n",
       "      <td>1921</td>\n",
       "      <td>662.40</td>\n",
       "      <td>15.12</td>\n",
       "      <td>5.0</td>\n",
       "    </tr>\n",
       "    <tr>\n",
       "      <th>...</th>\n",
       "      <td>...</td>\n",
       "      <td>...</td>\n",
       "      <td>...</td>\n",
       "      <td>...</td>\n",
       "      <td>...</td>\n",
       "      <td>...</td>\n",
       "    </tr>\n",
       "    <tr>\n",
       "      <th>4414</th>\n",
       "      <td>Zimbabwe</td>\n",
       "      <td>Sub-Saharan Africa</td>\n",
       "      <td>1991</td>\n",
       "      <td>782.09</td>\n",
       "      <td>39.79</td>\n",
       "      <td>5.0</td>\n",
       "    </tr>\n",
       "    <tr>\n",
       "      <th>4415</th>\n",
       "      <td>Zimbabwe</td>\n",
       "      <td>Sub-Saharan Africa</td>\n",
       "      <td>1996</td>\n",
       "      <td>781.50</td>\n",
       "      <td>-0.59</td>\n",
       "      <td>5.0</td>\n",
       "    </tr>\n",
       "    <tr>\n",
       "      <th>4416</th>\n",
       "      <td>Zimbabwe</td>\n",
       "      <td>Sub-Saharan Africa</td>\n",
       "      <td>2001</td>\n",
       "      <td>719.96</td>\n",
       "      <td>-61.54</td>\n",
       "      <td>5.0</td>\n",
       "    </tr>\n",
       "    <tr>\n",
       "      <th>4417</th>\n",
       "      <td>Zimbabwe</td>\n",
       "      <td>Sub-Saharan Africa</td>\n",
       "      <td>2006</td>\n",
       "      <td>520.17</td>\n",
       "      <td>-199.79</td>\n",
       "      <td>5.0</td>\n",
       "    </tr>\n",
       "    <tr>\n",
       "      <th>4418</th>\n",
       "      <td>Zimbabwe</td>\n",
       "      <td>Sub-Saharan Africa</td>\n",
       "      <td>2011</td>\n",
       "      <td>526.33</td>\n",
       "      <td>6.16</td>\n",
       "      <td>5.0</td>\n",
       "    </tr>\n",
       "  </tbody>\n",
       "</table>\n",
       "<p>4419 rows × 6 columns</p>\n",
       "</div>"
      ],
      "text/plain": [
       "          Country                                         Region  Year  \\\n",
       "0     Afghanistan  Middle East, North Africa, and Greater Arabia  1901   \n",
       "1     Afghanistan  Middle East, North Africa, and Greater Arabia  1906   \n",
       "2     Afghanistan  Middle East, North Africa, and Greater Arabia  1911   \n",
       "3     Afghanistan  Middle East, North Africa, and Greater Arabia  1916   \n",
       "4     Afghanistan  Middle East, North Africa, and Greater Arabia  1921   \n",
       "...           ...                                            ...   ...   \n",
       "4414     Zimbabwe                             Sub-Saharan Africa  1991   \n",
       "4415     Zimbabwe                             Sub-Saharan Africa  1996   \n",
       "4416     Zimbabwe                             Sub-Saharan Africa  2001   \n",
       "4417     Zimbabwe                             Sub-Saharan Africa  2006   \n",
       "4418     Zimbabwe                             Sub-Saharan Africa  2011   \n",
       "\n",
       "      GDP_PP  deltaGDP  deltaAno  \n",
       "0     613.99       NaN       NaN  \n",
       "1     624.04     10.05       5.0  \n",
       "2     634.25     10.21       5.0  \n",
       "3     647.28     13.03       5.0  \n",
       "4     662.40     15.12       5.0  \n",
       "...      ...       ...       ...  \n",
       "4414  782.09     39.79       5.0  \n",
       "4415  781.50     -0.59       5.0  \n",
       "4416  719.96    -61.54       5.0  \n",
       "4417  520.17   -199.79       5.0  \n",
       "4418  526.33      6.16       5.0  \n",
       "\n",
       "[4419 rows x 6 columns]"
      ]
     },
     "execution_count": 47,
     "metadata": {},
     "output_type": "execute_result"
    }
   ],
   "source": [
    "dfGDP = dfGDP.sort_values([\"Country\", \"Year\"])\n",
    "dfGDP[\"deltaGDP\"] = dfGDP[\"GDP_PP\"] - dfGDP[\"GDP_PP\"].shift(1)\n",
    "dfGDP[\"deltaAno\"] = dfGDP[\"Year\"] - dfGDP[\"Year\"].shift(1)\n",
    "dfGDP"
   ]
  },
  {
   "cell_type": "code",
   "execution_count": 48,
   "id": "1d66d4bf",
   "metadata": {},
   "outputs": [
    {
     "data": {
      "text/html": [
       "<div>\n",
       "<style scoped>\n",
       "    .dataframe tbody tr th:only-of-type {\n",
       "        vertical-align: middle;\n",
       "    }\n",
       "\n",
       "    .dataframe tbody tr th {\n",
       "        vertical-align: top;\n",
       "    }\n",
       "\n",
       "    .dataframe thead th {\n",
       "        text-align: right;\n",
       "    }\n",
       "</style>\n",
       "<table border=\"1\" class=\"dataframe\">\n",
       "  <thead>\n",
       "    <tr style=\"text-align: right;\">\n",
       "      <th></th>\n",
       "      <th>Country</th>\n",
       "      <th>Region</th>\n",
       "      <th>Year</th>\n",
       "      <th>GDP_PP</th>\n",
       "      <th>deltaGDP</th>\n",
       "      <th>deltaAno</th>\n",
       "      <th>GDPporAno</th>\n",
       "    </tr>\n",
       "  </thead>\n",
       "  <tbody>\n",
       "    <tr>\n",
       "      <th>0</th>\n",
       "      <td>Afghanistan</td>\n",
       "      <td>Middle East, North Africa, and Greater Arabia</td>\n",
       "      <td>1901</td>\n",
       "      <td>613.99</td>\n",
       "      <td>NaN</td>\n",
       "      <td>NaN</td>\n",
       "      <td>2.010</td>\n",
       "    </tr>\n",
       "    <tr>\n",
       "      <th>1</th>\n",
       "      <td>Afghanistan</td>\n",
       "      <td>Middle East, North Africa, and Greater Arabia</td>\n",
       "      <td>1906</td>\n",
       "      <td>624.04</td>\n",
       "      <td>10.05</td>\n",
       "      <td>5.0</td>\n",
       "      <td>2.042</td>\n",
       "    </tr>\n",
       "    <tr>\n",
       "      <th>2</th>\n",
       "      <td>Afghanistan</td>\n",
       "      <td>Middle East, North Africa, and Greater Arabia</td>\n",
       "      <td>1911</td>\n",
       "      <td>634.25</td>\n",
       "      <td>10.21</td>\n",
       "      <td>5.0</td>\n",
       "      <td>2.606</td>\n",
       "    </tr>\n",
       "    <tr>\n",
       "      <th>3</th>\n",
       "      <td>Afghanistan</td>\n",
       "      <td>Middle East, North Africa, and Greater Arabia</td>\n",
       "      <td>1916</td>\n",
       "      <td>647.28</td>\n",
       "      <td>13.03</td>\n",
       "      <td>5.0</td>\n",
       "      <td>3.024</td>\n",
       "    </tr>\n",
       "    <tr>\n",
       "      <th>4</th>\n",
       "      <td>Afghanistan</td>\n",
       "      <td>Middle East, North Africa, and Greater Arabia</td>\n",
       "      <td>1921</td>\n",
       "      <td>662.40</td>\n",
       "      <td>15.12</td>\n",
       "      <td>5.0</td>\n",
       "      <td>3.094</td>\n",
       "    </tr>\n",
       "    <tr>\n",
       "      <th>...</th>\n",
       "      <td>...</td>\n",
       "      <td>...</td>\n",
       "      <td>...</td>\n",
       "      <td>...</td>\n",
       "      <td>...</td>\n",
       "      <td>...</td>\n",
       "      <td>...</td>\n",
       "    </tr>\n",
       "    <tr>\n",
       "      <th>4414</th>\n",
       "      <td>Zimbabwe</td>\n",
       "      <td>Sub-Saharan Africa</td>\n",
       "      <td>1991</td>\n",
       "      <td>782.09</td>\n",
       "      <td>39.79</td>\n",
       "      <td>5.0</td>\n",
       "      <td>-0.118</td>\n",
       "    </tr>\n",
       "    <tr>\n",
       "      <th>4415</th>\n",
       "      <td>Zimbabwe</td>\n",
       "      <td>Sub-Saharan Africa</td>\n",
       "      <td>1996</td>\n",
       "      <td>781.50</td>\n",
       "      <td>-0.59</td>\n",
       "      <td>5.0</td>\n",
       "      <td>-12.308</td>\n",
       "    </tr>\n",
       "    <tr>\n",
       "      <th>4416</th>\n",
       "      <td>Zimbabwe</td>\n",
       "      <td>Sub-Saharan Africa</td>\n",
       "      <td>2001</td>\n",
       "      <td>719.96</td>\n",
       "      <td>-61.54</td>\n",
       "      <td>5.0</td>\n",
       "      <td>-39.958</td>\n",
       "    </tr>\n",
       "    <tr>\n",
       "      <th>4417</th>\n",
       "      <td>Zimbabwe</td>\n",
       "      <td>Sub-Saharan Africa</td>\n",
       "      <td>2006</td>\n",
       "      <td>520.17</td>\n",
       "      <td>-199.79</td>\n",
       "      <td>5.0</td>\n",
       "      <td>1.232</td>\n",
       "    </tr>\n",
       "    <tr>\n",
       "      <th>4418</th>\n",
       "      <td>Zimbabwe</td>\n",
       "      <td>Sub-Saharan Africa</td>\n",
       "      <td>2011</td>\n",
       "      <td>526.33</td>\n",
       "      <td>6.16</td>\n",
       "      <td>5.0</td>\n",
       "      <td>NaN</td>\n",
       "    </tr>\n",
       "  </tbody>\n",
       "</table>\n",
       "<p>4419 rows × 7 columns</p>\n",
       "</div>"
      ],
      "text/plain": [
       "          Country                                         Region  Year  \\\n",
       "0     Afghanistan  Middle East, North Africa, and Greater Arabia  1901   \n",
       "1     Afghanistan  Middle East, North Africa, and Greater Arabia  1906   \n",
       "2     Afghanistan  Middle East, North Africa, and Greater Arabia  1911   \n",
       "3     Afghanistan  Middle East, North Africa, and Greater Arabia  1916   \n",
       "4     Afghanistan  Middle East, North Africa, and Greater Arabia  1921   \n",
       "...           ...                                            ...   ...   \n",
       "4414     Zimbabwe                             Sub-Saharan Africa  1991   \n",
       "4415     Zimbabwe                             Sub-Saharan Africa  1996   \n",
       "4416     Zimbabwe                             Sub-Saharan Africa  2001   \n",
       "4417     Zimbabwe                             Sub-Saharan Africa  2006   \n",
       "4418     Zimbabwe                             Sub-Saharan Africa  2011   \n",
       "\n",
       "      GDP_PP  deltaGDP  deltaAno  GDPporAno  \n",
       "0     613.99       NaN       NaN      2.010  \n",
       "1     624.04     10.05       5.0      2.042  \n",
       "2     634.25     10.21       5.0      2.606  \n",
       "3     647.28     13.03       5.0      3.024  \n",
       "4     662.40     15.12       5.0      3.094  \n",
       "...      ...       ...       ...        ...  \n",
       "4414  782.09     39.79       5.0     -0.118  \n",
       "4415  781.50     -0.59       5.0    -12.308  \n",
       "4416  719.96    -61.54       5.0    -39.958  \n",
       "4417  520.17   -199.79       5.0      1.232  \n",
       "4418  526.33      6.16       5.0        NaN  \n",
       "\n",
       "[4419 rows x 7 columns]"
      ]
     },
     "execution_count": 48,
     "metadata": {},
     "output_type": "execute_result"
    }
   ],
   "source": [
    "dfGDP[\"GDPporAno\"] = (dfGDP[\"deltaGDP\"] / dfGDP[\"deltaAno\"]).shift(-1)\n",
    "dfGDP"
   ]
  },
  {
   "cell_type": "code",
   "execution_count": 49,
   "id": "2843b669",
   "metadata": {},
   "outputs": [
    {
     "data": {
      "text/html": [
       "<div>\n",
       "<style scoped>\n",
       "    .dataframe tbody tr th:only-of-type {\n",
       "        vertical-align: middle;\n",
       "    }\n",
       "\n",
       "    .dataframe tbody tr th {\n",
       "        vertical-align: top;\n",
       "    }\n",
       "\n",
       "    .dataframe thead th {\n",
       "        text-align: right;\n",
       "    }\n",
       "</style>\n",
       "<table border=\"1\" class=\"dataframe\">\n",
       "  <thead>\n",
       "    <tr style=\"text-align: right;\">\n",
       "      <th></th>\n",
       "      <th>Country</th>\n",
       "      <th>Region</th>\n",
       "      <th>Year</th>\n",
       "      <th>GDP_PP</th>\n",
       "      <th>GDPporAno</th>\n",
       "      <th>ProximoAno</th>\n",
       "    </tr>\n",
       "  </thead>\n",
       "  <tbody>\n",
       "    <tr>\n",
       "      <th>0</th>\n",
       "      <td>Afghanistan</td>\n",
       "      <td>Middle East, North Africa, and Greater Arabia</td>\n",
       "      <td>1901</td>\n",
       "      <td>613.99</td>\n",
       "      <td>2.010</td>\n",
       "      <td>1906.0</td>\n",
       "    </tr>\n",
       "    <tr>\n",
       "      <th>1</th>\n",
       "      <td>Afghanistan</td>\n",
       "      <td>Middle East, North Africa, and Greater Arabia</td>\n",
       "      <td>1906</td>\n",
       "      <td>624.04</td>\n",
       "      <td>2.042</td>\n",
       "      <td>1911.0</td>\n",
       "    </tr>\n",
       "    <tr>\n",
       "      <th>2</th>\n",
       "      <td>Afghanistan</td>\n",
       "      <td>Middle East, North Africa, and Greater Arabia</td>\n",
       "      <td>1911</td>\n",
       "      <td>634.25</td>\n",
       "      <td>2.606</td>\n",
       "      <td>1916.0</td>\n",
       "    </tr>\n",
       "    <tr>\n",
       "      <th>3</th>\n",
       "      <td>Afghanistan</td>\n",
       "      <td>Middle East, North Africa, and Greater Arabia</td>\n",
       "      <td>1916</td>\n",
       "      <td>647.28</td>\n",
       "      <td>3.024</td>\n",
       "      <td>1921.0</td>\n",
       "    </tr>\n",
       "    <tr>\n",
       "      <th>4</th>\n",
       "      <td>Afghanistan</td>\n",
       "      <td>Middle East, North Africa, and Greater Arabia</td>\n",
       "      <td>1921</td>\n",
       "      <td>662.40</td>\n",
       "      <td>3.094</td>\n",
       "      <td>1926.0</td>\n",
       "    </tr>\n",
       "  </tbody>\n",
       "</table>\n",
       "</div>"
      ],
      "text/plain": [
       "       Country                                         Region  Year  GDP_PP  \\\n",
       "0  Afghanistan  Middle East, North Africa, and Greater Arabia  1901  613.99   \n",
       "1  Afghanistan  Middle East, North Africa, and Greater Arabia  1906  624.04   \n",
       "2  Afghanistan  Middle East, North Africa, and Greater Arabia  1911  634.25   \n",
       "3  Afghanistan  Middle East, North Africa, and Greater Arabia  1916  647.28   \n",
       "4  Afghanistan  Middle East, North Africa, and Greater Arabia  1921  662.40   \n",
       "\n",
       "   GDPporAno  ProximoAno  \n",
       "0      2.010      1906.0  \n",
       "1      2.042      1911.0  \n",
       "2      2.606      1916.0  \n",
       "3      3.024      1921.0  \n",
       "4      3.094      1926.0  "
      ]
     },
     "execution_count": 49,
     "metadata": {},
     "output_type": "execute_result"
    }
   ],
   "source": [
    "dfGDP[\"ProximoAno\"] = dfGDP[\"Year\"].shift(-1)\n",
    "del dfGDP[\"deltaGDP\"], dfGDP[\"deltaAno\"]\n",
    "dfGDP.head(5)"
   ]
  },
  {
   "cell_type": "code",
   "execution_count": 50,
   "id": "980fac0b",
   "metadata": {},
   "outputs": [],
   "source": [
    "dfNovosDados = pd.DataFrame()\n",
    "for idx, row in dfGDP.iterrows():\n",
    "    if row[\"Year\"] == 2011:\n",
    "        continue\n",
    "    anosParaAdicionar = dfAnosOff[(dfAnosOff < row[\"ProximoAno\"]) & (dfAnosOff > row[\"Year\"])]\n",
    "    for novoAno in anosParaAdicionar:\n",
    "        addRow = row.copy()\n",
    "        addRow[\"GDP_PP\"] = (novoAno - addRow[\"Year\"]) * addRow[\"GDPporAno\"] + addRow[\"GDP_PP\"]\n",
    "        addRow[\"Year\"] = novoAno\n",
    "        addRow[\"kind\"] = \"estimated\"\n",
    "        dfNovosDados = pd.concat([dfNovosDados, addRow.to_frame().transpose()])"
   ]
  },
  {
   "cell_type": "code",
   "execution_count": 51,
   "id": "46246585",
   "metadata": {},
   "outputs": [
    {
     "data": {
      "text/html": [
       "<div>\n",
       "<style scoped>\n",
       "    .dataframe tbody tr th:only-of-type {\n",
       "        vertical-align: middle;\n",
       "    }\n",
       "\n",
       "    .dataframe tbody tr th {\n",
       "        vertical-align: top;\n",
       "    }\n",
       "\n",
       "    .dataframe thead th {\n",
       "        text-align: right;\n",
       "    }\n",
       "</style>\n",
       "<table border=\"1\" class=\"dataframe\">\n",
       "  <thead>\n",
       "    <tr style=\"text-align: right;\">\n",
       "      <th></th>\n",
       "      <th>Country</th>\n",
       "      <th>Region</th>\n",
       "      <th>Year</th>\n",
       "      <th>GDP_PP</th>\n",
       "      <th>GDPporAno</th>\n",
       "      <th>ProximoAno</th>\n",
       "      <th>kind</th>\n",
       "    </tr>\n",
       "  </thead>\n",
       "  <tbody>\n",
       "    <tr>\n",
       "      <th>0</th>\n",
       "      <td>Afghanistan</td>\n",
       "      <td>Middle East, North Africa, and Greater Arabia</td>\n",
       "      <td>1902</td>\n",
       "      <td>616.0</td>\n",
       "      <td>2.01</td>\n",
       "      <td>1906.0</td>\n",
       "      <td>estimated</td>\n",
       "    </tr>\n",
       "    <tr>\n",
       "      <th>0</th>\n",
       "      <td>Afghanistan</td>\n",
       "      <td>Middle East, North Africa, and Greater Arabia</td>\n",
       "      <td>1903</td>\n",
       "      <td>618.01</td>\n",
       "      <td>2.01</td>\n",
       "      <td>1906.0</td>\n",
       "      <td>estimated</td>\n",
       "    </tr>\n",
       "    <tr>\n",
       "      <th>0</th>\n",
       "      <td>Afghanistan</td>\n",
       "      <td>Middle East, North Africa, and Greater Arabia</td>\n",
       "      <td>1904</td>\n",
       "      <td>620.02</td>\n",
       "      <td>2.01</td>\n",
       "      <td>1906.0</td>\n",
       "      <td>estimated</td>\n",
       "    </tr>\n",
       "    <tr>\n",
       "      <th>0</th>\n",
       "      <td>Afghanistan</td>\n",
       "      <td>Middle East, North Africa, and Greater Arabia</td>\n",
       "      <td>1905</td>\n",
       "      <td>622.03</td>\n",
       "      <td>2.01</td>\n",
       "      <td>1906.0</td>\n",
       "      <td>estimated</td>\n",
       "    </tr>\n",
       "    <tr>\n",
       "      <th>1</th>\n",
       "      <td>Afghanistan</td>\n",
       "      <td>Middle East, North Africa, and Greater Arabia</td>\n",
       "      <td>1907</td>\n",
       "      <td>626.082</td>\n",
       "      <td>2.042</td>\n",
       "      <td>1911.0</td>\n",
       "      <td>estimated</td>\n",
       "    </tr>\n",
       "    <tr>\n",
       "      <th>...</th>\n",
       "      <td>...</td>\n",
       "      <td>...</td>\n",
       "      <td>...</td>\n",
       "      <td>...</td>\n",
       "      <td>...</td>\n",
       "      <td>...</td>\n",
       "      <td>...</td>\n",
       "    </tr>\n",
       "    <tr>\n",
       "      <th>4416</th>\n",
       "      <td>Zimbabwe</td>\n",
       "      <td>Sub-Saharan Africa</td>\n",
       "      <td>2005</td>\n",
       "      <td>560.128</td>\n",
       "      <td>-39.958</td>\n",
       "      <td>2006.0</td>\n",
       "      <td>estimated</td>\n",
       "    </tr>\n",
       "    <tr>\n",
       "      <th>4417</th>\n",
       "      <td>Zimbabwe</td>\n",
       "      <td>Sub-Saharan Africa</td>\n",
       "      <td>2007</td>\n",
       "      <td>521.402</td>\n",
       "      <td>1.232</td>\n",
       "      <td>2011.0</td>\n",
       "      <td>estimated</td>\n",
       "    </tr>\n",
       "    <tr>\n",
       "      <th>4417</th>\n",
       "      <td>Zimbabwe</td>\n",
       "      <td>Sub-Saharan Africa</td>\n",
       "      <td>2008</td>\n",
       "      <td>522.634</td>\n",
       "      <td>1.232</td>\n",
       "      <td>2011.0</td>\n",
       "      <td>estimated</td>\n",
       "    </tr>\n",
       "    <tr>\n",
       "      <th>4417</th>\n",
       "      <td>Zimbabwe</td>\n",
       "      <td>Sub-Saharan Africa</td>\n",
       "      <td>2009</td>\n",
       "      <td>523.866</td>\n",
       "      <td>1.232</td>\n",
       "      <td>2011.0</td>\n",
       "      <td>estimated</td>\n",
       "    </tr>\n",
       "    <tr>\n",
       "      <th>4417</th>\n",
       "      <td>Zimbabwe</td>\n",
       "      <td>Sub-Saharan Africa</td>\n",
       "      <td>2010</td>\n",
       "      <td>525.098</td>\n",
       "      <td>1.232</td>\n",
       "      <td>2011.0</td>\n",
       "      <td>estimated</td>\n",
       "    </tr>\n",
       "  </tbody>\n",
       "</table>\n",
       "<p>16904 rows × 7 columns</p>\n",
       "</div>"
      ],
      "text/plain": [
       "          Country                                         Region  Year  \\\n",
       "0     Afghanistan  Middle East, North Africa, and Greater Arabia  1902   \n",
       "0     Afghanistan  Middle East, North Africa, and Greater Arabia  1903   \n",
       "0     Afghanistan  Middle East, North Africa, and Greater Arabia  1904   \n",
       "0     Afghanistan  Middle East, North Africa, and Greater Arabia  1905   \n",
       "1     Afghanistan  Middle East, North Africa, and Greater Arabia  1907   \n",
       "...           ...                                            ...   ...   \n",
       "4416     Zimbabwe                             Sub-Saharan Africa  2005   \n",
       "4417     Zimbabwe                             Sub-Saharan Africa  2007   \n",
       "4417     Zimbabwe                             Sub-Saharan Africa  2008   \n",
       "4417     Zimbabwe                             Sub-Saharan Africa  2009   \n",
       "4417     Zimbabwe                             Sub-Saharan Africa  2010   \n",
       "\n",
       "       GDP_PP GDPporAno ProximoAno       kind  \n",
       "0       616.0      2.01     1906.0  estimated  \n",
       "0      618.01      2.01     1906.0  estimated  \n",
       "0      620.02      2.01     1906.0  estimated  \n",
       "0      622.03      2.01     1906.0  estimated  \n",
       "1     626.082     2.042     1911.0  estimated  \n",
       "...       ...       ...        ...        ...  \n",
       "4416  560.128   -39.958     2006.0  estimated  \n",
       "4417  521.402     1.232     2011.0  estimated  \n",
       "4417  522.634     1.232     2011.0  estimated  \n",
       "4417  523.866     1.232     2011.0  estimated  \n",
       "4417  525.098     1.232     2011.0  estimated  \n",
       "\n",
       "[16904 rows x 7 columns]"
      ]
     },
     "execution_count": 51,
     "metadata": {},
     "output_type": "execute_result"
    }
   ],
   "source": [
    "dfNovosDados"
   ]
  },
  {
   "cell_type": "code",
   "execution_count": 52,
   "id": "d284f03d",
   "metadata": {},
   "outputs": [],
   "source": [
    "dfGDP = pd.concat([dfGDP, dfNovosDados])\n",
    "dfGDP.sort_values([\"Country\", \"Year\"], inplace=True)\n",
    "dfGDP.index = dfGDP[\"Year\"]"
   ]
  },
  {
   "cell_type": "code",
   "execution_count": 55,
   "id": "aafa1daa",
   "metadata": {},
   "outputs": [
    {
     "data": {
      "text/html": [
       "<div>\n",
       "<style scoped>\n",
       "    .dataframe tbody tr th:only-of-type {\n",
       "        vertical-align: middle;\n",
       "    }\n",
       "\n",
       "    .dataframe tbody tr th {\n",
       "        vertical-align: top;\n",
       "    }\n",
       "\n",
       "    .dataframe thead th {\n",
       "        text-align: right;\n",
       "    }\n",
       "</style>\n",
       "<table border=\"1\" class=\"dataframe\">\n",
       "  <thead>\n",
       "    <tr style=\"text-align: right;\">\n",
       "      <th></th>\n",
       "      <th>Country</th>\n",
       "      <th>Region</th>\n",
       "      <th>Year</th>\n",
       "      <th>GDP_PP</th>\n",
       "      <th>GDPporAno</th>\n",
       "      <th>ProximoAno</th>\n",
       "      <th>kind</th>\n",
       "    </tr>\n",
       "    <tr>\n",
       "      <th>Year</th>\n",
       "      <th></th>\n",
       "      <th></th>\n",
       "      <th></th>\n",
       "      <th></th>\n",
       "      <th></th>\n",
       "      <th></th>\n",
       "      <th></th>\n",
       "    </tr>\n",
       "  </thead>\n",
       "  <tbody>\n",
       "    <tr>\n",
       "      <th>1901</th>\n",
       "      <td>Afghanistan</td>\n",
       "      <td>Middle East, North Africa, and Greater Arabia</td>\n",
       "      <td>1901</td>\n",
       "      <td>613.99</td>\n",
       "      <td>2.01</td>\n",
       "      <td>1906.0</td>\n",
       "      <td>real</td>\n",
       "    </tr>\n",
       "    <tr>\n",
       "      <th>1902</th>\n",
       "      <td>Afghanistan</td>\n",
       "      <td>Middle East, North Africa, and Greater Arabia</td>\n",
       "      <td>1902</td>\n",
       "      <td>616.0</td>\n",
       "      <td>2.01</td>\n",
       "      <td>1906.0</td>\n",
       "      <td>estimated</td>\n",
       "    </tr>\n",
       "    <tr>\n",
       "      <th>1903</th>\n",
       "      <td>Afghanistan</td>\n",
       "      <td>Middle East, North Africa, and Greater Arabia</td>\n",
       "      <td>1903</td>\n",
       "      <td>618.01</td>\n",
       "      <td>2.01</td>\n",
       "      <td>1906.0</td>\n",
       "      <td>estimated</td>\n",
       "    </tr>\n",
       "    <tr>\n",
       "      <th>1904</th>\n",
       "      <td>Afghanistan</td>\n",
       "      <td>Middle East, North Africa, and Greater Arabia</td>\n",
       "      <td>1904</td>\n",
       "      <td>620.02</td>\n",
       "      <td>2.01</td>\n",
       "      <td>1906.0</td>\n",
       "      <td>estimated</td>\n",
       "    </tr>\n",
       "    <tr>\n",
       "      <th>1905</th>\n",
       "      <td>Afghanistan</td>\n",
       "      <td>Middle East, North Africa, and Greater Arabia</td>\n",
       "      <td>1905</td>\n",
       "      <td>622.03</td>\n",
       "      <td>2.01</td>\n",
       "      <td>1906.0</td>\n",
       "      <td>estimated</td>\n",
       "    </tr>\n",
       "    <tr>\n",
       "      <th>...</th>\n",
       "      <td>...</td>\n",
       "      <td>...</td>\n",
       "      <td>...</td>\n",
       "      <td>...</td>\n",
       "      <td>...</td>\n",
       "      <td>...</td>\n",
       "      <td>...</td>\n",
       "    </tr>\n",
       "    <tr>\n",
       "      <th>2007</th>\n",
       "      <td>Zimbabwe</td>\n",
       "      <td>Sub-Saharan Africa</td>\n",
       "      <td>2007</td>\n",
       "      <td>521.402</td>\n",
       "      <td>1.232</td>\n",
       "      <td>2011.0</td>\n",
       "      <td>estimated</td>\n",
       "    </tr>\n",
       "    <tr>\n",
       "      <th>2008</th>\n",
       "      <td>Zimbabwe</td>\n",
       "      <td>Sub-Saharan Africa</td>\n",
       "      <td>2008</td>\n",
       "      <td>522.634</td>\n",
       "      <td>1.232</td>\n",
       "      <td>2011.0</td>\n",
       "      <td>estimated</td>\n",
       "    </tr>\n",
       "    <tr>\n",
       "      <th>2009</th>\n",
       "      <td>Zimbabwe</td>\n",
       "      <td>Sub-Saharan Africa</td>\n",
       "      <td>2009</td>\n",
       "      <td>523.866</td>\n",
       "      <td>1.232</td>\n",
       "      <td>2011.0</td>\n",
       "      <td>estimated</td>\n",
       "    </tr>\n",
       "    <tr>\n",
       "      <th>2010</th>\n",
       "      <td>Zimbabwe</td>\n",
       "      <td>Sub-Saharan Africa</td>\n",
       "      <td>2010</td>\n",
       "      <td>525.098</td>\n",
       "      <td>1.232</td>\n",
       "      <td>2011.0</td>\n",
       "      <td>estimated</td>\n",
       "    </tr>\n",
       "    <tr>\n",
       "      <th>2011</th>\n",
       "      <td>Zimbabwe</td>\n",
       "      <td>Sub-Saharan Africa</td>\n",
       "      <td>2011</td>\n",
       "      <td>526.33</td>\n",
       "      <td>NaN</td>\n",
       "      <td>NaN</td>\n",
       "      <td>real</td>\n",
       "    </tr>\n",
       "  </tbody>\n",
       "</table>\n",
       "<p>21323 rows × 7 columns</p>\n",
       "</div>"
      ],
      "text/plain": [
       "          Country                                         Region  Year  \\\n",
       "Year                                                                     \n",
       "1901  Afghanistan  Middle East, North Africa, and Greater Arabia  1901   \n",
       "1902  Afghanistan  Middle East, North Africa, and Greater Arabia  1902   \n",
       "1903  Afghanistan  Middle East, North Africa, and Greater Arabia  1903   \n",
       "1904  Afghanistan  Middle East, North Africa, and Greater Arabia  1904   \n",
       "1905  Afghanistan  Middle East, North Africa, and Greater Arabia  1905   \n",
       "...           ...                                            ...   ...   \n",
       "2007     Zimbabwe                             Sub-Saharan Africa  2007   \n",
       "2008     Zimbabwe                             Sub-Saharan Africa  2008   \n",
       "2009     Zimbabwe                             Sub-Saharan Africa  2009   \n",
       "2010     Zimbabwe                             Sub-Saharan Africa  2010   \n",
       "2011     Zimbabwe                             Sub-Saharan Africa  2011   \n",
       "\n",
       "       GDP_PP GDPporAno ProximoAno       kind  \n",
       "Year                                           \n",
       "1901   613.99      2.01     1906.0       real  \n",
       "1902    616.0      2.01     1906.0  estimated  \n",
       "1903   618.01      2.01     1906.0  estimated  \n",
       "1904   620.02      2.01     1906.0  estimated  \n",
       "1905   622.03      2.01     1906.0  estimated  \n",
       "...       ...       ...        ...        ...  \n",
       "2007  521.402     1.232     2011.0  estimated  \n",
       "2008  522.634     1.232     2011.0  estimated  \n",
       "2009  523.866     1.232     2011.0  estimated  \n",
       "2010  525.098     1.232     2011.0  estimated  \n",
       "2011   526.33       NaN        NaN       real  \n",
       "\n",
       "[21323 rows x 7 columns]"
      ]
     },
     "execution_count": 55,
     "metadata": {},
     "output_type": "execute_result"
    }
   ],
   "source": [
    "dfGDP[\"kind\"] = dfGDP[\"kind\"].fillna(\"real\")\n",
    "dfGDP"
   ]
  },
  {
   "cell_type": "code",
   "execution_count": 56,
   "id": "0df28b3e",
   "metadata": {},
   "outputs": [
    {
     "data": {
      "text/plain": [
       "<Axes: xlabel='Year', ylabel='GDP_PP'>"
      ]
     },
     "execution_count": 56,
     "metadata": {},
     "output_type": "execute_result"
    },
    {
     "data": {
      "image/png": "[encoded data removed]",
      "text/plain": [
       "<Figure size 2000x500 with 1 Axes>"
      ]
     },
     "metadata": {},
     "output_type": "display_data"
    }
   ],
   "source": [
    "import matplotlib.pyplot as plt\n",
    "fig, ax = plt.subplots(figsize=(20, 5))\n",
    "country = \"Brazil\"\n",
    "dfGDP[(dfGDP[\"kind\"] == \"real\") & (dfGDP[\"Country\"] == country)].plot(kind=\"scatter\", y=\"GDP_PP\", x=\"Year\", ax=ax)\n",
    "dfGDP[(dfGDP[\"kind\"] == \"estimated\") & (dfGDP[\"Country\"] == country)].plot(kind=\"scatter\", y=\"GDP_PP\", x=\"Year\", ax=ax, color=\"orange\")"
   ]
  },
  {
   "cell_type": "markdown",
   "id": "revised-helicopter",
   "metadata": {},
   "source": [
    "### DESAFIOS\n",
    "- Você conseguiria criar um mapa do gdp ou da obesidade no mundo ao longo dos anos?"
   ]
  },
  {
   "cell_type": "code",
   "execution_count": null,
   "id": "advised-sample",
   "metadata": {},
   "outputs": [],
   "source": []
  },
  {
   "cell_type": "markdown",
   "id": "lesbian-flight",
   "metadata": {},
   "source": [
    "- Há uma relação entre níveis de obesidade e gdp per capita?"
   ]
  },
  {
   "cell_type": "code",
   "execution_count": null,
   "id": "fluid-enemy",
   "metadata": {},
   "outputs": [],
   "source": []
  }
 ],
 "metadata": {
  "kernelspec": {
   "display_name": "Python 3",
   "language": "python",
   "name": "python3"
  },
  "language_info": {
   "codemirror_mode": {
    "name": "ipython",
    "version": 3
   },
   "file_extension": ".py",
   "mimetype": "text/x-python",
   "name": "python",
   "nbconvert_exporter": "python",
   "pygments_lexer": "ipython3",
   "version": "3.12.4"
  }
 },
 "nbformat": 4,
 "nbformat_minor": 5
}
