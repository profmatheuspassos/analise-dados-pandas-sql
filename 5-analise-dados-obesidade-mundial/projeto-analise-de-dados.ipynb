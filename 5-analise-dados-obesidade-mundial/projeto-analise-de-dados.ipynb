{
 "cells": [
  {
   "cell_type": "markdown",
   "id": "motivated-olympus",
   "metadata": {},
   "source": [
    "# Projeto final\n",
    "\n",
    "Bem vindo ao projeto final do curso/módulo de Pandas.\n",
    "Neste projeto, você deve responder a um conjunto de perguntas feitas a dois conjuntos de dados:\n",
    "\n",
    "1. [Obesity among adults by country, 1975-2016](https://www.kaggle.com/amanarora/obesity-among-adults-by-country-19752016/)\n",
    "2. [GDP Per Person (1901-2011)](https://www.kaggle.com/divyansh22/gdp-per-person-19012011?select=GDP.csv)\n",
    "\n",
    "Tais conjuntos de dados são públicos foram publicados no Kaggle. Mais instruções sobre cada um deles podem ser encontrados nos links acima. Você também os encontrará na pasta `Datasets`, dentro de nossas apostilas."
   ]
  },
  {
   "cell_type": "code",
   "execution_count": 1,
   "id": "million-survival",
   "metadata": {},
   "outputs": [],
   "source": [
    "import pandas as pd\n",
    "import numpy as np\n",
    "from pathlib import Path\n",
    "\n",
    "# Caminho absoluto até a pasta onde as subpastas estão localizadas\n",
    "pastaArquivos = Path(\"/Users/matheuspassossilva/Library/CloudStorage/Dropbox/GitHub/analise-dados-pandas-sql/arquivos\")\n",
    "\n",
    "# Caminhos para os arquivos CSV - NÃO UTILIZADOS, OPTOU-SE POR ABRI-LOS DIRETAMENTE\n",
    "# arquivoObesidade = pastaArquivos / \"obesity_cleaned.csv\"\n",
    "# arquivoPIB = pastaArquivos / \"gdp.csv\"\n",
    "\n",
    "dfObesidade = pd.read_csv(pastaArquivos / \"obesity_cleaned.csv\", index_col=0)\n",
    "dfPIB = pd.read_csv(pastaArquivos / \"gdp.csv\")"
   ]
  },
  {
   "cell_type": "code",
   "execution_count": 2,
   "id": "ef4930b1",
   "metadata": {},
   "outputs": [
    {
     "name": "stdout",
     "output_type": "stream",
     "text": [
      "<class 'pandas.core.frame.DataFrame'>\n",
      "Index: 24570 entries, 0 to 24569\n",
      "Data columns (total 4 columns):\n",
      " #   Column       Non-Null Count  Dtype \n",
      "---  ------       --------------  ----- \n",
      " 0   Country      24570 non-null  object\n",
      " 1   Year         24570 non-null  int64 \n",
      " 2   Obesity (%)  24570 non-null  object\n",
      " 3   Sex          24570 non-null  object\n",
      "dtypes: int64(1), object(3)\n",
      "memory usage: 959.8+ KB\n"
     ]
    }
   ],
   "source": [
    "dfObesidade.info()"
   ]
  },
  {
   "cell_type": "code",
   "execution_count": 3,
   "id": "5d4db179",
   "metadata": {},
   "outputs": [
    {
     "data": {
      "text/plain": [
       "Index(['Country', 'Year', 'Obesity (%)', 'Sex'], dtype='object')"
      ]
     },
     "execution_count": 3,
     "metadata": {},
     "output_type": "execute_result"
    }
   ],
   "source": [
    "dfObesidade.columns"
   ]
  },
  {
   "cell_type": "code",
   "execution_count": 4,
   "id": "b9e21edd",
   "metadata": {},
   "outputs": [
    {
     "data": {
      "text/html": [
       "<div>\n",
       "<style scoped>\n",
       "    .dataframe tbody tr th:only-of-type {\n",
       "        vertical-align: middle;\n",
       "    }\n",
       "\n",
       "    .dataframe tbody tr th {\n",
       "        vertical-align: top;\n",
       "    }\n",
       "\n",
       "    .dataframe thead th {\n",
       "        text-align: right;\n",
       "    }\n",
       "</style>\n",
       "<table border=\"1\" class=\"dataframe\">\n",
       "  <thead>\n",
       "    <tr style=\"text-align: right;\">\n",
       "      <th></th>\n",
       "      <th>Country</th>\n",
       "      <th>Year</th>\n",
       "      <th>Obesity (%)</th>\n",
       "      <th>Sex</th>\n",
       "    </tr>\n",
       "  </thead>\n",
       "  <tbody>\n",
       "    <tr>\n",
       "      <th>0</th>\n",
       "      <td>Afghanistan</td>\n",
       "      <td>1975</td>\n",
       "      <td>0.5 [0.2-1.1]</td>\n",
       "      <td>Both sexes</td>\n",
       "    </tr>\n",
       "    <tr>\n",
       "      <th>1</th>\n",
       "      <td>Afghanistan</td>\n",
       "      <td>1975</td>\n",
       "      <td>0.2 [0.0-0.6]</td>\n",
       "      <td>Male</td>\n",
       "    </tr>\n",
       "    <tr>\n",
       "      <th>2</th>\n",
       "      <td>Afghanistan</td>\n",
       "      <td>1975</td>\n",
       "      <td>0.8 [0.2-2.0]</td>\n",
       "      <td>Female</td>\n",
       "    </tr>\n",
       "    <tr>\n",
       "      <th>3</th>\n",
       "      <td>Afghanistan</td>\n",
       "      <td>1976</td>\n",
       "      <td>0.5 [0.2-1.1]</td>\n",
       "      <td>Both sexes</td>\n",
       "    </tr>\n",
       "    <tr>\n",
       "      <th>4</th>\n",
       "      <td>Afghanistan</td>\n",
       "      <td>1976</td>\n",
       "      <td>0.2 [0.0-0.7]</td>\n",
       "      <td>Male</td>\n",
       "    </tr>\n",
       "    <tr>\n",
       "      <th>...</th>\n",
       "      <td>...</td>\n",
       "      <td>...</td>\n",
       "      <td>...</td>\n",
       "      <td>...</td>\n",
       "    </tr>\n",
       "    <tr>\n",
       "      <th>24565</th>\n",
       "      <td>Zimbabwe</td>\n",
       "      <td>2015</td>\n",
       "      <td>4.5 [2.4-7.6]</td>\n",
       "      <td>Male</td>\n",
       "    </tr>\n",
       "    <tr>\n",
       "      <th>24566</th>\n",
       "      <td>Zimbabwe</td>\n",
       "      <td>2015</td>\n",
       "      <td>24.8 [18.9-31.3]</td>\n",
       "      <td>Female</td>\n",
       "    </tr>\n",
       "    <tr>\n",
       "      <th>24567</th>\n",
       "      <td>Zimbabwe</td>\n",
       "      <td>2016</td>\n",
       "      <td>15.5 [12.0-19.2]</td>\n",
       "      <td>Both sexes</td>\n",
       "    </tr>\n",
       "    <tr>\n",
       "      <th>24568</th>\n",
       "      <td>Zimbabwe</td>\n",
       "      <td>2016</td>\n",
       "      <td>4.7 [2.5-8.0]</td>\n",
       "      <td>Male</td>\n",
       "    </tr>\n",
       "    <tr>\n",
       "      <th>24569</th>\n",
       "      <td>Zimbabwe</td>\n",
       "      <td>2016</td>\n",
       "      <td>25.3 [19.1-32.0]</td>\n",
       "      <td>Female</td>\n",
       "    </tr>\n",
       "  </tbody>\n",
       "</table>\n",
       "<p>24570 rows × 4 columns</p>\n",
       "</div>"
      ],
      "text/plain": [
       "           Country  Year       Obesity (%)         Sex\n",
       "0      Afghanistan  1975     0.5 [0.2-1.1]  Both sexes\n",
       "1      Afghanistan  1975     0.2 [0.0-0.6]        Male\n",
       "2      Afghanistan  1975     0.8 [0.2-2.0]      Female\n",
       "3      Afghanistan  1976     0.5 [0.2-1.1]  Both sexes\n",
       "4      Afghanistan  1976     0.2 [0.0-0.7]        Male\n",
       "...            ...   ...               ...         ...\n",
       "24565     Zimbabwe  2015     4.5 [2.4-7.6]        Male\n",
       "24566     Zimbabwe  2015  24.8 [18.9-31.3]      Female\n",
       "24567     Zimbabwe  2016  15.5 [12.0-19.2]  Both sexes\n",
       "24568     Zimbabwe  2016     4.7 [2.5-8.0]        Male\n",
       "24569     Zimbabwe  2016  25.3 [19.1-32.0]      Female\n",
       "\n",
       "[24570 rows x 4 columns]"
      ]
     },
     "execution_count": 4,
     "metadata": {},
     "output_type": "execute_result"
    }
   ],
   "source": [
    "dfObesidade"
   ]
  },
  {
   "cell_type": "markdown",
   "id": "becoming-princeton",
   "metadata": {},
   "source": [
    "## Perguntas - Obesity among adults by country, 1975-2016"
   ]
  },
  {
   "cell_type": "markdown",
   "id": "divine-rebel",
   "metadata": {},
   "source": [
    "- Limpe os dados do DataFrame, criando uma coluna de nome 'Obesity' que conterá os valores de obesidade. Transforme em float as colunas que porventura foram importadas como string."
   ]
  },
  {
   "cell_type": "code",
   "execution_count": 5,
   "id": "cubic-minneapolis",
   "metadata": {},
   "outputs": [],
   "source": [
    "dfObesidade[[\"Country\", \"Sex\"]] = dfObesidade[[\"Country\", \"Sex\"]].apply(lambda x: x.astype(\"string\"))"
   ]
  },
  {
   "cell_type": "code",
   "execution_count": 6,
   "id": "3dc640b4",
   "metadata": {},
   "outputs": [
    {
     "name": "stdout",
     "output_type": "stream",
     "text": [
      "<class 'pandas.core.frame.DataFrame'>\n",
      "Index: 24570 entries, 0 to 24569\n",
      "Data columns (total 4 columns):\n",
      " #   Column       Non-Null Count  Dtype \n",
      "---  ------       --------------  ----- \n",
      " 0   Country      24570 non-null  string\n",
      " 1   Year         24570 non-null  int64 \n",
      " 2   Obesity (%)  24570 non-null  object\n",
      " 3   Sex          24570 non-null  string\n",
      "dtypes: int64(1), object(1), string(2)\n",
      "memory usage: 959.8+ KB\n"
     ]
    }
   ],
   "source": [
    "dfObesidade.info()"
   ]
  },
  {
   "cell_type": "code",
   "execution_count": 7,
   "id": "e916ff1e",
   "metadata": {},
   "outputs": [],
   "source": [
    "dfObesidade[\"Obesity\"] = pd.to_numeric(dfObesidade[\"Obesity (%)\"].str.split().str[0], errors=\"coerce\")"
   ]
  },
  {
   "cell_type": "code",
   "execution_count": 8,
   "id": "3deb4fe7",
   "metadata": {},
   "outputs": [
    {
     "name": "stdout",
     "output_type": "stream",
     "text": [
      "<class 'pandas.core.frame.DataFrame'>\n",
      "Index: 24570 entries, 0 to 24569\n",
      "Data columns (total 5 columns):\n",
      " #   Column       Non-Null Count  Dtype  \n",
      "---  ------       --------------  -----  \n",
      " 0   Country      24570 non-null  string \n",
      " 1   Year         24570 non-null  int64  \n",
      " 2   Obesity (%)  24570 non-null  object \n",
      " 3   Sex          24570 non-null  string \n",
      " 4   Obesity      24066 non-null  float64\n",
      "dtypes: float64(1), int64(1), object(1), string(2)\n",
      "memory usage: 1.1+ MB\n"
     ]
    }
   ],
   "source": [
    "dfObesidade.info()"
   ]
  },
  {
   "cell_type": "code",
   "execution_count": 37,
   "id": "3c097708",
   "metadata": {},
   "outputs": [
    {
     "data": {
      "text/html": [
       "<div>\n",
       "<style scoped>\n",
       "    .dataframe tbody tr th:only-of-type {\n",
       "        vertical-align: middle;\n",
       "    }\n",
       "\n",
       "    .dataframe tbody tr th {\n",
       "        vertical-align: top;\n",
       "    }\n",
       "\n",
       "    .dataframe thead th {\n",
       "        text-align: right;\n",
       "    }\n",
       "</style>\n",
       "<table border=\"1\" class=\"dataframe\">\n",
       "  <thead>\n",
       "    <tr style=\"text-align: right;\">\n",
       "      <th></th>\n",
       "      <th>Country</th>\n",
       "      <th>Year</th>\n",
       "      <th>Obesity (%)</th>\n",
       "      <th>Sex</th>\n",
       "      <th>Obesity</th>\n",
       "    </tr>\n",
       "  </thead>\n",
       "  <tbody>\n",
       "    <tr>\n",
       "      <th>0</th>\n",
       "      <td>Afghanistan</td>\n",
       "      <td>1975</td>\n",
       "      <td>0.5 [0.2-1.1]</td>\n",
       "      <td>Both sexes</td>\n",
       "      <td>0.5</td>\n",
       "    </tr>\n",
       "    <tr>\n",
       "      <th>1</th>\n",
       "      <td>Afghanistan</td>\n",
       "      <td>1975</td>\n",
       "      <td>0.2 [0.0-0.6]</td>\n",
       "      <td>Male</td>\n",
       "      <td>0.2</td>\n",
       "    </tr>\n",
       "    <tr>\n",
       "      <th>2</th>\n",
       "      <td>Afghanistan</td>\n",
       "      <td>1975</td>\n",
       "      <td>0.8 [0.2-2.0]</td>\n",
       "      <td>Female</td>\n",
       "      <td>0.8</td>\n",
       "    </tr>\n",
       "    <tr>\n",
       "      <th>3</th>\n",
       "      <td>Afghanistan</td>\n",
       "      <td>1976</td>\n",
       "      <td>0.5 [0.2-1.1]</td>\n",
       "      <td>Both sexes</td>\n",
       "      <td>0.5</td>\n",
       "    </tr>\n",
       "    <tr>\n",
       "      <th>4</th>\n",
       "      <td>Afghanistan</td>\n",
       "      <td>1976</td>\n",
       "      <td>0.2 [0.0-0.7]</td>\n",
       "      <td>Male</td>\n",
       "      <td>0.2</td>\n",
       "    </tr>\n",
       "  </tbody>\n",
       "</table>\n",
       "</div>"
      ],
      "text/plain": [
       "       Country  Year    Obesity (%)         Sex  Obesity\n",
       "0  Afghanistan  1975  0.5 [0.2-1.1]  Both sexes      0.5\n",
       "1  Afghanistan  1975  0.2 [0.0-0.6]        Male      0.2\n",
       "2  Afghanistan  1975  0.8 [0.2-2.0]      Female      0.8\n",
       "3  Afghanistan  1976  0.5 [0.2-1.1]  Both sexes      0.5\n",
       "4  Afghanistan  1976  0.2 [0.0-0.7]        Male      0.2"
      ]
     },
     "execution_count": 37,
     "metadata": {},
     "output_type": "execute_result"
    }
   ],
   "source": [
    "dfObesidade.head()"
   ]
  },
  {
   "cell_type": "markdown",
   "id": "voluntary-temperature",
   "metadata": {},
   "source": [
    "- Qual o percentual médio de obesidade por sexo no mundo no ano de 2015?"
   ]
  },
  {
   "cell_type": "code",
   "execution_count": 22,
   "id": "afraid-reminder",
   "metadata": {},
   "outputs": [],
   "source": [
    "df2015Homem = dfObesidade[dfObesidade[\"Year\"] == 2015]"
   ]
  },
  {
   "cell_type": "code",
   "execution_count": 23,
   "id": "2d860347",
   "metadata": {},
   "outputs": [],
   "source": [
    "dfHomem = df2015[df2015[\"Sex\"] == \"Male\"]\n",
    "dfMulher = df2015[df2015[\"Sex\"] == \"Female\"]"
   ]
  },
  {
   "cell_type": "code",
   "execution_count": 24,
   "id": "9cbad567",
   "metadata": {},
   "outputs": [
    {
     "data": {
      "text/plain": [
       "15.98062827225131"
      ]
     },
     "execution_count": 24,
     "metadata": {},
     "output_type": "execute_result"
    }
   ],
   "source": [
    "dfHomem[\"Obesity\"].mean()"
   ]
  },
  {
   "cell_type": "code",
   "execution_count": 25,
   "id": "97b1df10",
   "metadata": {},
   "outputs": [
    {
     "data": {
      "text/plain": [
       "22.899476439790575"
      ]
     },
     "execution_count": 25,
     "metadata": {},
     "output_type": "execute_result"
    }
   ],
   "source": [
    "dfMulher[\"Obesity\"].mean()"
   ]
  },
  {
   "cell_type": "markdown",
   "id": "expected-kruger",
   "metadata": {},
   "source": [
    "- Quais são os 5 países com a maior e a menor taxa de aumento nos índices de obesidade no período observado?"
   ]
  },
  {
   "cell_type": "code",
   "execution_count": 38,
   "id": "phantom-going",
   "metadata": {},
   "outputs": [
    {
     "name": "stderr",
     "output_type": "stream",
     "text": [
      "/var/folders/nt/_j3hvbp55v900j_y7l4tsy0h0000gn/T/ipykernel_25204/1737460937.py:1: FutureWarning: The provided callable <built-in function min> is currently using SeriesGroupBy.min. In a future version of pandas, the provided callable will be used directly. To keep current behavior pass the string \"min\" instead.\n",
      "  dfAnosPais = dfObesidade.groupby(\"Country\")[\"Year\"].agg([min, max])\n",
      "/var/folders/nt/_j3hvbp55v900j_y7l4tsy0h0000gn/T/ipykernel_25204/1737460937.py:1: FutureWarning: The provided callable <built-in function max> is currently using SeriesGroupBy.max. In a future version of pandas, the provided callable will be used directly. To keep current behavior pass the string \"max\" instead.\n",
      "  dfAnosPais = dfObesidade.groupby(\"Country\")[\"Year\"].agg([min, max])\n"
     ]
    }
   ],
   "source": [
    "dfAnosPais = dfObesidade.groupby(\"Country\")[\"Year\"].agg([min, max])"
   ]
  },
  {
   "cell_type": "code",
   "execution_count": 39,
   "id": "ac7329bf",
   "metadata": {},
   "outputs": [
    {
     "data": {
      "text/html": [
       "<div>\n",
       "<style scoped>\n",
       "    .dataframe tbody tr th:only-of-type {\n",
       "        vertical-align: middle;\n",
       "    }\n",
       "\n",
       "    .dataframe tbody tr th {\n",
       "        vertical-align: top;\n",
       "    }\n",
       "\n",
       "    .dataframe thead th {\n",
       "        text-align: right;\n",
       "    }\n",
       "</style>\n",
       "<table border=\"1\" class=\"dataframe\">\n",
       "  <thead>\n",
       "    <tr style=\"text-align: right;\">\n",
       "      <th></th>\n",
       "      <th>min</th>\n",
       "      <th>max</th>\n",
       "    </tr>\n",
       "    <tr>\n",
       "      <th>Country</th>\n",
       "      <th></th>\n",
       "      <th></th>\n",
       "    </tr>\n",
       "  </thead>\n",
       "  <tbody>\n",
       "    <tr>\n",
       "      <th>Afghanistan</th>\n",
       "      <td>1975</td>\n",
       "      <td>2016</td>\n",
       "    </tr>\n",
       "    <tr>\n",
       "      <th>Albania</th>\n",
       "      <td>1975</td>\n",
       "      <td>2016</td>\n",
       "    </tr>\n",
       "    <tr>\n",
       "      <th>Algeria</th>\n",
       "      <td>1975</td>\n",
       "      <td>2016</td>\n",
       "    </tr>\n",
       "    <tr>\n",
       "      <th>Andorra</th>\n",
       "      <td>1975</td>\n",
       "      <td>2016</td>\n",
       "    </tr>\n",
       "    <tr>\n",
       "      <th>Angola</th>\n",
       "      <td>1975</td>\n",
       "      <td>2016</td>\n",
       "    </tr>\n",
       "    <tr>\n",
       "      <th>...</th>\n",
       "      <td>...</td>\n",
       "      <td>...</td>\n",
       "    </tr>\n",
       "    <tr>\n",
       "      <th>Venezuela (Bolivarian Republic of)</th>\n",
       "      <td>1975</td>\n",
       "      <td>2016</td>\n",
       "    </tr>\n",
       "    <tr>\n",
       "      <th>Viet Nam</th>\n",
       "      <td>1975</td>\n",
       "      <td>2016</td>\n",
       "    </tr>\n",
       "    <tr>\n",
       "      <th>Yemen</th>\n",
       "      <td>1975</td>\n",
       "      <td>2016</td>\n",
       "    </tr>\n",
       "    <tr>\n",
       "      <th>Zambia</th>\n",
       "      <td>1975</td>\n",
       "      <td>2016</td>\n",
       "    </tr>\n",
       "    <tr>\n",
       "      <th>Zimbabwe</th>\n",
       "      <td>1975</td>\n",
       "      <td>2016</td>\n",
       "    </tr>\n",
       "  </tbody>\n",
       "</table>\n",
       "<p>195 rows × 2 columns</p>\n",
       "</div>"
      ],
      "text/plain": [
       "                                     min   max\n",
       "Country                                       \n",
       "Afghanistan                         1975  2016\n",
       "Albania                             1975  2016\n",
       "Algeria                             1975  2016\n",
       "Andorra                             1975  2016\n",
       "Angola                              1975  2016\n",
       "...                                  ...   ...\n",
       "Venezuela (Bolivarian Republic of)  1975  2016\n",
       "Viet Nam                            1975  2016\n",
       "Yemen                               1975  2016\n",
       "Zambia                              1975  2016\n",
       "Zimbabwe                            1975  2016\n",
       "\n",
       "[195 rows x 2 columns]"
      ]
     },
     "execution_count": 39,
     "metadata": {},
     "output_type": "execute_result"
    }
   ],
   "source": [
    "dfAnosPais"
   ]
  },
  {
   "cell_type": "code",
   "execution_count": 40,
   "id": "e1ecc1a1",
   "metadata": {},
   "outputs": [],
   "source": [
    "dfAnosPais.to_csv(pastaArquivos / \"dfAnosPais.csv\")"
   ]
  },
  {
   "cell_type": "markdown",
   "id": "efficient-buyer",
   "metadata": {},
   "source": [
    "- Quais os países com maiores e menores níveis percetuais de obesidade em 2015?"
   ]
  },
  {
   "cell_type": "code",
   "execution_count": 27,
   "id": "violent-warren",
   "metadata": {},
   "outputs": [
    {
     "data": {
      "text/plain": [
       "<StringArray>\n",
       "[                       'Afghanistan',                            'Albania',\n",
       "                            'Algeria',                            'Andorra',\n",
       "                             'Angola',                'Antigua and Barbuda',\n",
       "                          'Argentina',                            'Armenia',\n",
       "                          'Australia',                            'Austria',\n",
       " ...\n",
       "        'United Republic of Tanzania',           'United States of America',\n",
       "                            'Uruguay',                         'Uzbekistan',\n",
       "                            'Vanuatu', 'Venezuela (Bolivarian Republic of)',\n",
       "                           'Viet Nam',                              'Yemen',\n",
       "                             'Zambia',                           'Zimbabwe']\n",
       "Length: 195, dtype: string"
      ]
     },
     "execution_count": 27,
     "metadata": {},
     "output_type": "execute_result"
    }
   ],
   "source": []
  },
  {
   "cell_type": "code",
   "execution_count": 28,
   "id": "d849cbc0",
   "metadata": {},
   "outputs": [
    {
     "data": {
      "text/plain": [
       "504"
      ]
     },
     "execution_count": 28,
     "metadata": {},
     "output_type": "execute_result"
    }
   ],
   "source": []
  },
  {
   "cell_type": "markdown",
   "id": "average-holiday",
   "metadata": {},
   "source": [
    "- Qual a diferença média percentual de obesidade entre sexos ao longo dos anos para o Brasil?"
   ]
  },
  {
   "cell_type": "code",
   "execution_count": null,
   "id": "later-occurrence",
   "metadata": {},
   "outputs": [],
   "source": []
  },
  {
   "cell_type": "markdown",
   "id": "rising-exhaust",
   "metadata": {},
   "source": [
    "- Você conseguiria plotar um gráfico mostrando a evolução da obesidade para ambos sexos no mundo?"
   ]
  },
  {
   "cell_type": "code",
   "execution_count": null,
   "id": "senior-recruitment",
   "metadata": {},
   "outputs": [],
   "source": [
    "df_both.plot()"
   ]
  },
  {
   "cell_type": "markdown",
   "id": "labeled-rainbow",
   "metadata": {},
   "source": [
    "## Perguntas - GDP Per Person (1901-2011)"
   ]
  },
  {
   "cell_type": "code",
   "execution_count": null,
   "id": "thermal-breeding",
   "metadata": {},
   "outputs": [],
   "source": [
    "df_gdp = pd.read_csv(\"Datasets/GDP.csv\", decimal=\".\")"
   ]
  },
  {
   "cell_type": "markdown",
   "id": "suffering-guitar",
   "metadata": {},
   "source": [
    "- Limpe o conjunto de dados, convertendo strings em datas ou float, quando necessário."
   ]
  },
  {
   "cell_type": "code",
   "execution_count": null,
   "id": "fundamental-occasions",
   "metadata": {},
   "outputs": [],
   "source": []
  },
  {
   "cell_type": "markdown",
   "id": "studied-validity",
   "metadata": {},
   "source": [
    "- Você conseguiria informar o primeiro valor registrado de cada país?"
   ]
  },
  {
   "cell_type": "code",
   "execution_count": null,
   "id": "frequent-rental",
   "metadata": {},
   "outputs": [],
   "source": []
  },
  {
   "cell_type": "markdown",
   "id": "tutorial-softball",
   "metadata": {},
   "source": [
    "- Informe as regiões com maiores crescimentos de PIB per capita no século passado."
   ]
  },
  {
   "cell_type": "code",
   "execution_count": null,
   "id": "given-colorado",
   "metadata": {},
   "outputs": [],
   "source": []
  },
  {
   "cell_type": "markdown",
   "id": "textile-afternoon",
   "metadata": {},
   "source": [
    "- Preecha os anos ausentes em cada país com uma estimativa, baseada na diferença entre o próximo registro e o anterior."
   ]
  },
  {
   "cell_type": "code",
   "execution_count": null,
   "id": "hydraulic-confidentiality",
   "metadata": {},
   "outputs": [],
   "source": []
  },
  {
   "cell_type": "markdown",
   "id": "revised-helicopter",
   "metadata": {},
   "source": [
    "### DESAFIOS\n",
    "- Você conseguiria criar um mapa do gdp ou da obesidade no mundo ao longo dos anos?"
   ]
  },
  {
   "cell_type": "code",
   "execution_count": null,
   "id": "advised-sample",
   "metadata": {},
   "outputs": [],
   "source": []
  },
  {
   "cell_type": "markdown",
   "id": "lesbian-flight",
   "metadata": {},
   "source": [
    "- Há uma relação entre níveis de obesidade e gdp per capita?"
   ]
  },
  {
   "cell_type": "code",
   "execution_count": null,
   "id": "fluid-enemy",
   "metadata": {},
   "outputs": [],
   "source": []
  }
 ],
 "metadata": {
  "kernelspec": {
   "display_name": "Python 3",
   "language": "python",
   "name": "python3"
  },
  "language_info": {
   "codemirror_mode": {
    "name": "ipython",
    "version": 3
   },
   "file_extension": ".py",
   "mimetype": "text/x-python",
   "name": "python",
   "nbconvert_exporter": "python",
   "pygments_lexer": "ipython3",
   "version": "3.12.2"
  }
 },
 "nbformat": 4,
 "nbformat_minor": 5
}
